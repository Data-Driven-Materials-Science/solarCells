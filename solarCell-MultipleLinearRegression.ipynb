{
 "cells": [
  {
   "cell_type": "markdown",
   "metadata": {},
   "source": [
    "# Starting Multivariate Regression\n",
    "Code here is pulled from https://towardsdatascience.com/multiple-linear-regression-in-four-lines-of-code-b8ba26192e84"
   ]
  },
  {
   "cell_type": "code",
   "execution_count": 64,
   "metadata": {},
   "outputs": [],
   "source": [
    "import numpy as np\n",
    "import matplotlib.mlab as mlab\n",
    "import matplotlib.pyplot as plt\n",
    "import pandas as pd"
   ]
  },
  {
   "cell_type": "markdown",
   "metadata": {},
   "source": [
    "### Cleaning Data"
   ]
  },
  {
   "cell_type": "code",
   "execution_count": 65,
   "metadata": {},
   "outputs": [],
   "source": [
    "dataset = pd.read_csv('deviceSummary.csv')\n",
    "X = dataset.iloc[:, 1:-1].values\n",
    "y = dataset.iloc[:, -1].values"
   ]
  },
  {
   "cell_type": "code",
   "execution_count": 66,
   "metadata": {},
   "outputs": [],
   "source": [
    "from sklearn.model_selection import train_test_split\n",
    "X_train, X_test, y_train, y_test = train_test_split(X, y, test_size = 0.2, random_state = 0)"
   ]
  },
  {
   "cell_type": "code",
   "execution_count": 67,
   "metadata": {},
   "outputs": [
    {
     "name": "stdout",
     "output_type": "stream",
     "text": [
      "Test: 1.77, Pred: 3.4\n",
      "Test: 1.54, Pred: 3.6\n",
      "Test: 8.96, Pred: 6.54\n",
      "Test: 1.86, Pred: 3.83\n",
      "Test: 1.51, Pred: 2.92\n",
      "Test: 5.4, Pred: 3.4\n",
      "Test: 1.37, Pred: 3.35\n",
      "Test: 1.82, Pred: 3.6\n",
      "Test: 3.59, Pred: 3.37\n",
      "Test: 4.29, Pred: 6.68\n",
      "Test: 1.36, Pred: 0.54\n",
      "Test: 2.37, Pred: 2.92\n",
      "Test: 7.66, Pred: 6.35\n",
      "Test: 3.47, Pred: 1.96\n",
      "Test: 9.86, Pred: 6.54\n",
      "Test: 6.5, Pred: 6.35\n",
      "Test: 5.93, Pred: 3.37\n",
      "Test: 9.07, Pred: 6.54\n",
      "Test: 3.16, Pred: 6.68\n",
      "Test: 6.87, Pred: 6.35\n",
      "Test: 1.36, Pred: 3.35\n",
      "Test: 1.43, Pred: 3.6\n"
     ]
    }
   ],
   "source": [
    "from sklearn.linear_model import LinearRegression\n",
    "regressor = LinearRegression()\n",
    "regressor.fit(X_train, y_train)\n",
    "y_pred = regressor.predict(X_test)\n",
    "for i in range(len(y_pred)):\n",
    "    print(\"Test: \" + str(y_test[i]) + \", Pred: \" + str(round(y_pred[i], 2)))"
   ]
  },
  {
   "cell_type": "code",
   "execution_count": 68,
   "metadata": {},
   "outputs": [
    {
     "data": {
      "text/plain": [
       "Text(0, 0.5, 'Predicted Efficency')"
      ]
     },
     "execution_count": 68,
     "metadata": {},
     "output_type": "execute_result"
    },
    {
     "data": {
      "image/png": "[encoded data removed]",
      "text/plain": [
       "<Figure size 432x288 with 1 Axes>"
      ]
     },
     "metadata": {
      "needs_background": "light"
     },
     "output_type": "display_data"
    }
   ],
   "source": [
    "import scipy\n",
    "slope, intercept, r_value, p_value, std_err = scipy.stats.linregress(y_test, y_pred)\n",
    "plt.scatter(y_test, y_pred, color='purple')\n",
    "plt.plot(y_test, slope*y_test + intercept, color='green', label=\"Actual\")\n",
    "plt.plot(y_test, y_test, color='blue', label=\"Optimal\")\n",
    "plt.title(\"Solar Cell Efficiency: Predicted vs Actual\")\n",
    "plt.xlabel(\"Actual Efficiency\")\n",
    "plt.ylabel(\"Predicted Efficency\")"
   ]
  },
  {
   "cell_type": "code",
   "execution_count": 69,
   "metadata": {},
   "outputs": [
    {
     "name": "stdout",
     "output_type": "stream",
     "text": [
      "0.7249724126246283\n"
     ]
    }
   ],
   "source": [
    "print(r_value)\n",
    "print(r_value*r_value)"
   ]
  }
 ],
 "metadata": {
  "interpreter": {
   "hash": "af1d514201f653fb50363266ea71fc76cd958ff26bdf77c1b3bc2254b0587c73"
  },
  "kernelspec": {
   "display_name": "Python 3.9.8 64-bit (windows store)",
   "language": "python",
   "name": "python3"
  },
  "language_info": {
   "codemirror_mode": {
    "name": "ipython",
    "version": 3
   },
   "file_extension": ".py",
   "mimetype": "text/x-python",
   "name": "python",
   "nbconvert_exporter": "python",
   "pygments_lexer": "ipython3",
   "version": "3.9.7"
  },
  "orig_nbformat": 4
 },
 "nbformat": 4,
 "nbformat_minor": 2
}
