{
 "cells": [
  {
   "cell_type": "code",
   "execution_count": 32,
   "metadata": {},
   "outputs": [],
   "source": [
    "import pandas as pd\n",
    "import numpy as np\n",
    "import random"
   ]
  },
  {
   "cell_type": "code",
   "execution_count": 19,
   "metadata": {},
   "outputs": [],
   "source": [
    "old_df = pd.read_csv('Device summary (CLEAN).csv')\n",
    "new_df = pd.read_csv('newData.csv')\n",
    "new_df = new_df.drop(['Subset'], axis=1)"
   ]
  },
  {
   "cell_type": "code",
   "execution_count": 20,
   "metadata": {},
   "outputs": [
    {
     "name": "stdout",
     "output_type": "stream",
     "text": [
      "     Temperature  Speed  Distance  Pressure  Efficiency\n",
      "1             70    100         7         0        1.34\n",
      "2             70    100         7         0        1.80\n",
      "3             70    100         7         0        1.86\n",
      "4             70    100         7         0        1.58\n",
      "5             70    100         7         0        1.01\n",
      "..           ...    ...       ...       ...         ...\n",
      "102           70    150         8         0        1.36\n",
      "103           70    150         8         0        3.23\n",
      "104           70    150         8         0        1.13\n",
      "105           70    150         8         0        1.04\n",
      "106           70    150         8         0        1.37\n",
      "\n",
      "[106 rows x 5 columns]\n",
      "    Temperature  Speed  Distance  Pressure  Efficiency\n",
      "0            50    145         5         7       4.870\n",
      "1            50    145         6         3       6.650\n",
      "2            50    145         6         7       8.270\n",
      "3            50    145         8         4       5.460\n",
      "4            50    150         7         1       6.100\n",
      "5            50    150         8         7       8.210\n",
      "6            50    155         5         4       4.550\n",
      "7            50    155         6        10       3.250\n",
      "8            50    155         7         6       9.150\n",
      "9            50    155         8         1       4.860\n",
      "10           50    160         5         0       4.480\n",
      "11           50    170         5         4       4.590\n",
      "12           50    175         5         7       4.830\n",
      "13           50    185         8         6       4.120\n",
      "14           50    185         8         9       4.250\n",
      "15           50    190         5         7       4.850\n",
      "16           50    190         6         5       3.200\n",
      "17           50    190         7         1       3.890\n",
      "18           50    190         7         5       4.870\n",
      "19           50    190         8         3       3.670\n",
      "20           50    195         5         2       2.650\n",
      "21           50    195         6         2       2.890\n",
      "22           50    195         8         0       1.120\n",
      "23           55    130         6         7       6.890\n",
      "24           55    130         8         1       6.350\n",
      "25           55    135         5         1       6.120\n",
      "26           55    135         5         3       6.180\n",
      "27           55    135         6         4       6.210\n",
      "28           55    135         6         7       7.000\n",
      "29           55    140         5         4       4.590\n",
      "30           55    140         6         2       5.200\n",
      "31           55    140         7         1       4.590\n",
      "32           55    140         8         3       3.367\n",
      "33           55    140         8        10       3.230\n",
      "34           55    160         5        10       3.260\n",
      "35           55    160         6         2       3.560\n",
      "36           55    160         6         7       6.890\n",
      "37           55    160         7        10       3.700\n",
      "38           55    165         5         1       5.540\n",
      "39           55    165         5         4       4.800\n",
      "40           55    165         5         6       4.300\n",
      "41           55    165         6        10       4.150\n",
      "42           55    165         7         7       4.100\n",
      "43           55    165         8         4       5.230\n",
      "44           55    170         8         5       2.230\n",
      "45           55    175         7         5       4.890\n",
      "46           55    185         6         4       2.090\n",
      "47           55    190         5         7       3.450\n",
      "48           55    195         5         0       3.250\n",
      "49           55    195         6         7       1.508\n"
     ]
    }
   ],
   "source": [
    "print(old_df)\n",
    "print(new_df)"
   ]
  },
  {
   "cell_type": "code",
   "execution_count": 35,
   "metadata": {},
   "outputs": [
    {
     "name": "stdout",
     "output_type": "stream",
     "text": [
      "     Temperature  Speed  Distance  Pressure  Efficiency\n",
      "97            70    150         6         0        7.00\n",
      "70            90    150         7         0        1.73\n",
      "83            50    150         7        10        3.05\n",
      "77            50    150         7         7        9.86\n",
      "8             50    155         7         6        9.15\n",
      "..           ...    ...       ...       ...         ...\n",
      "72            50    150         7         7        9.27\n",
      "0             50    145         5         7        4.87\n",
      "15            70    150         7         0        5.61\n",
      "93            70    150         5         0        3.67\n",
      "103           70    150         8         0        3.23\n",
      "\n",
      "[156 rows x 5 columns]\n"
     ]
    }
   ],
   "source": [
    "random.seed(42)\n",
    "np.random.seed(42)\n",
    "frames = [old_df, new_df]\n",
    "mergedDataset = pd.concat(frames)\n",
    "shuffledDataset = mergedDataset.sample(frac = 1)\n",
    "print(shuffledDataset)"
   ]
  }
 ],
 "metadata": {
  "kernelspec": {
   "display_name": "Python 3",
   "language": "python",
   "name": "python3"
  },
  "language_info": {
   "codemirror_mode": {
    "name": "ipython",
    "version": 3
   },
   "file_extension": ".py",
   "mimetype": "text/x-python",
   "name": "python",
   "nbconvert_exporter": "python",
   "pygments_lexer": "ipython3",
   "version": "3.9.13"
  },
  "orig_nbformat": 4
 },
 "nbformat": 4,
 "nbformat_minor": 2
}
