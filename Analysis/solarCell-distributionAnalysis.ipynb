{
 "cells": [
  {
   "cell_type": "markdown",
   "metadata": {},
   "source": [
    "# Feature Distribution Analysis\n",
    "\n",
    "This Jupyter Notebook is used to analyze either the collected data or the generated data to identify how balanced the dataset is"
   ]
  },
  {
   "cell_type": "markdown",
   "metadata": {},
   "source": [
    "#### Handling Imports"
   ]
  },
  {
   "cell_type": "code",
   "execution_count": 61,
   "metadata": {},
   "outputs": [],
   "source": [
    "import numpy as np\n",
    "import matplotlib.mlab as mlab\n",
    "import matplotlib.pyplot as plt\n",
    "import pandas as pd\n",
    "from sklearn.preprocessing import LabelEncoder"
   ]
  },
  {
   "cell_type": "markdown",
   "metadata": {},
   "source": [
    "#### Reading Data in"
   ]
  },
  {
   "cell_type": "code",
   "execution_count": 62,
   "metadata": {},
   "outputs": [
    {
     "name": "stdout",
     "output_type": "stream",
     "text": [
      "['Temperature', 'Speed', 'Distance', 'Pressure', 'Efficiency']\n",
      "     Temperature  Speed  Distance  Pressure  Efficiency\n",
      "0             55    140         5         1         0.0\n",
      "1             50    145         5         3         0.0\n",
      "2             50    145         5         8         0.0\n",
      "3             55    140         5         9         0.0\n",
      "4             55    135         6         0         0.0\n",
      "..           ...    ...       ...       ...         ...\n",
      "251           75    190         7         8         0.0\n",
      "252           70    190         8         0         0.0\n",
      "253           70    185         8         4         0.0\n",
      "254           80    195         8         8         0.0\n",
      "255           75    195         8         8         0.0\n",
      "\n",
      "[256 rows x 5 columns]\n"
     ]
    }
   ],
   "source": [
    "#df = pd.read_csv('../syntheticDataset.csv')\n",
    "#df = pd.read_csv('../deviceSummary.csv')\n",
    "#df = pd.read_csv('../optimizedSyntheticDataset.csv')\n",
    "#df = pd.read_csv('../DataGeneration/newDataCollection0.csv')\n",
    "#df = pd.read_csv('../DataGeneration/newDataCollection1.csv')   #LOOKING PRETTY GOOD, EXCEPT SPEED\n",
    "#df = pd.read_csv('../DataGeneration/newDataCollection2.csv')\n",
    "#df = pd.read_csv('../DataGeneration/newDataCollection3.csv')\n",
    "#df = pd.read_csv('../DataGeneration/newDataCollection4.csv')\n",
    "df = pd.read_csv('../DataGeneration/newDataCollection5.csv')    #Not bad, speed has issues tho\n",
    "#df = pd.read_csv('../DataGeneration/newDataCollection6.csv')\n",
    "columns = list(df.columns)\n",
    "print(columns)\n",
    "print(df)"
   ]
  },
  {
   "cell_type": "markdown",
   "metadata": {},
   "source": [
    "#### Graphing Temperature Distribution"
   ]
  },
  {
   "cell_type": "code",
   "execution_count": 63,
   "metadata": {},
   "outputs": [
    {
     "name": "stdout",
     "output_type": "stream",
     "text": [
      "Temperature\n"
     ]
    },
    {
     "data": {
      "image/png": "[encoded data removed]",
      "text/plain": [
       "<Figure size 432x288 with 1 Axes>"
      ]
     },
     "metadata": {
      "needs_background": "light"
     },
     "output_type": "display_data"
    }
   ],
   "source": [
    "colNum = 0\n",
    "numBins = 4\n",
    "print(columns[colNum])\n",
    "#print(df[columns[colNum]])\n",
    "plt.hist(df[columns[colNum]], numBins, facecolor='blue', alpha=0.5)\n",
    "plt.title(\"Distribution of Temerature Features Selected\")\n",
    "plt.xlabel(\"Temperature\")\n",
    "plt.ylabel(\"Frequency\")\n",
    "plt.show()"
   ]
  },
  {
   "cell_type": "markdown",
   "metadata": {},
   "source": [
    "#### Graphing Speed Distribution"
   ]
  },
  {
   "cell_type": "code",
   "execution_count": 64,
   "metadata": {},
   "outputs": [
    {
     "name": "stdout",
     "output_type": "stream",
     "text": [
      "Speed\n"
     ]
    },
    {
     "data": {
      "image/png": "[encoded data removed]",
      "text/plain": [
       "<Figure size 432x288 with 1 Axes>"
      ]
     },
     "metadata": {
      "needs_background": "light"
     },
     "output_type": "display_data"
    }
   ],
   "source": [
    "colNum = 1\n",
    "numBins = 4\n",
    "print(columns[colNum])\n",
    "#print(df[columns[colNum]])\n",
    "plt.hist(df[columns[colNum]], numBins, facecolor='blue', alpha=0.5)\n",
    "plt.title(\"Distribution of Speed Features Selected\")\n",
    "plt.xlabel(\"Speed\")\n",
    "plt.ylabel(\"Frequency\")\n",
    "plt.show()"
   ]
  },
  {
   "cell_type": "markdown",
   "metadata": {},
   "source": [
    "#### Graphing Distance Distribution"
   ]
  },
  {
   "cell_type": "code",
   "execution_count": 65,
   "metadata": {},
   "outputs": [
    {
     "name": "stdout",
     "output_type": "stream",
     "text": [
      "Distance\n"
     ]
    },
    {
     "data": {
      "image/png": "[encoded data removed]",
      "text/plain": [
       "<Figure size 432x288 with 1 Axes>"
      ]
     },
     "metadata": {
      "needs_background": "light"
     },
     "output_type": "display_data"
    }
   ],
   "source": [
    "colNum = 2\n",
    "numBins = 4\n",
    "print(columns[colNum])\n",
    "#print(df[columns[colNum]])\n",
    "plt.hist(df[columns[colNum]], numBins, facecolor='blue', alpha=0.5)\n",
    "plt.title(\"Distribution of Distance Features Selected\")\n",
    "plt.xlabel(\"Distance\")\n",
    "plt.ylabel(\"Frequency\")\n",
    "plt.show()"
   ]
  },
  {
   "cell_type": "markdown",
   "metadata": {},
   "source": [
    "#### Graphing Pressure Distribution"
   ]
  },
  {
   "cell_type": "code",
   "execution_count": 66,
   "metadata": {},
   "outputs": [
    {
     "name": "stdout",
     "output_type": "stream",
     "text": [
      "Pressure\n"
     ]
    },
    {
     "data": {
      "image/png": "[encoded data removed]",
      "text/plain": [
       "<Figure size 432x288 with 1 Axes>"
      ]
     },
     "metadata": {
      "needs_background": "light"
     },
     "output_type": "display_data"
    }
   ],
   "source": [
    "colNum = 3\n",
    "numBins = 4\n",
    "print(columns[colNum])\n",
    "#print(df[columns[colNum]])\n",
    "plt.hist(df[columns[colNum]], numBins, facecolor='blue', alpha=0.5)\n",
    "plt.title(\"Distribution of Pressure Features Selected\")\n",
    "plt.xlabel(\"Pressure\")\n",
    "plt.ylabel(\"Frequency\")\n",
    "plt.show()\n"
   ]
  }
 ],
 "metadata": {
  "interpreter": {
   "hash": "af1d514201f653fb50363266ea71fc76cd958ff26bdf77c1b3bc2254b0587c73"
  },
  "kernelspec": {
   "display_name": "Python 3.9.8 64-bit (windows store)",
   "language": "python",
   "name": "python3"
  },
  "language_info": {
   "codemirror_mode": {
    "name": "ipython",
    "version": 3
   },
   "file_extension": ".py",
   "mimetype": "text/x-python",
   "name": "python",
   "nbconvert_exporter": "python",
   "pygments_lexer": "ipython3",
   "version": "3.9.7"
  },
  "orig_nbformat": 4
 },
 "nbformat": 4,
 "nbformat_minor": 2
}
