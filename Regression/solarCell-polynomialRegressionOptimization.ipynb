{
 "cells": [
  {
   "cell_type": "markdown",
   "metadata": {},
   "source": [
    "# Multivariate Linear Regression Optimization\n",
    "\n",
    "Used for plugging in synthetic optimization dataset to find the optimal value for parameters"
   ]
  },
  {
   "cell_type": "code",
   "execution_count": 108,
   "metadata": {},
   "outputs": [],
   "source": [
    "import numpy as np\n",
    "import matplotlib.mlab as mlab\n",
    "import matplotlib.pyplot as plt\n",
    "import pandas as pd\n",
    "import scipy\n",
    "import math\n",
    "from sklearn import metrics\n",
    "from sklearn.model_selection import train_test_split\n",
    "from sklearn.preprocessing import PolynomialFeatures\n",
    "from sklearn.linear_model import LinearRegression\n",
    "from sklearn.model_selection import train_test_split\n",
    "import matplotlib.pyplot as plt\n",
    "import pandas as pd\n",
    "from sklearn.preprocessing import PolynomialFeatures\n",
    "from sklearn import linear_model\n",
    "from sklearn import metrics\n",
    "import matplotlib.pyplot as plt\n",
    "import scipy\n",
    "import math"
   ]
  },
  {
   "cell_type": "markdown",
   "metadata": {},
   "source": [
    "### Function Definitions\n",
    "\n",
    "Returns the Linear Regression Equation for the model in a readable format"
   ]
  },
  {
   "cell_type": "code",
   "execution_count": 109,
   "metadata": {},
   "outputs": [],
   "source": [
    "def getEq(weights, cols, intercept):\n",
    "    return ('Formula: y =  {} + {}({}) + {}({}) + {}({}) + {}({})'.format(intercept, weights[0], cols[0], weights[1], cols[1], weights[2], cols[2], weights[3], cols[3]))"
   ]
  },
  {
   "cell_type": "markdown",
   "metadata": {},
   "source": [
    "#### Cleaning Data"
   ]
  },
  {
   "cell_type": "code",
   "execution_count": 110,
   "metadata": {},
   "outputs": [],
   "source": [
    "cols =['Temp','Speed','Distance','Pressure']\n",
    "dataset = pd.read_csv('../DataSets/deviceSummary.csv')\n",
    "X = dataset.iloc[:, 1:-1].values\n",
    "y = dataset.iloc[:, -1].values\n",
    "splitRatio = 0.25\n",
    "\n",
    "\n",
    "generatedDataset = pd.read_csv('../Datasets/optimizedSyntheticDataset.csv')\n",
    "genData = generatedDataset.iloc[:, 0:-1].values\n",
    "\n"
   ]
  },
  {
   "cell_type": "markdown",
   "metadata": {},
   "source": [
    "#### Spliting Classes"
   ]
  },
  {
   "cell_type": "markdown",
   "metadata": {},
   "source": [
    "#### Calculating Regressions"
   ]
  },
  {
   "cell_type": "code",
   "execution_count": 111,
   "metadata": {},
   "outputs": [
    {
     "name": "stdout",
     "output_type": "stream",
     "text": [
      "R Value: 0.9180357285078597\n",
      "R-Squared: 0.8427895988169568\n",
      "Std-Err: 0.07582910867967792\n",
      "\n"
     ]
    }
   ],
   "source": [
    "poly = PolynomialFeatures(degree=4)\n",
    "poly_variables = poly.fit_transform(X)\n",
    "poly_var_train, poly_var_test, res_train, res_test = train_test_split(poly_variables, y, test_size = splitRatio, random_state = 4)\n",
    "regression = linear_model.LinearRegression()\n",
    "model = regression.fit(poly_var_train, res_train)\n",
    "score = model.score(poly_var_test, res_test)\n",
    "prediction = model.predict(poly_var_test)\n",
    "slope, intercept, r_value, p_value, std_err = scipy.stats.linregress(res_test, prediction)\n",
    "print(\"R Value: \" + str(r_value))\n",
    "print(\"R-Squared: \" + str(r_value*r_value))\n",
    "print(\"Std-Err: \" + str(std_err))\n",
    "polyData = poly.fit_transform(genData)\n",
    "optimal = model.predict(polyData)\n",
    "print('')"
   ]
  },
  {
   "cell_type": "code",
   "execution_count": 112,
   "metadata": {},
   "outputs": [
    {
     "name": "stdout",
     "output_type": "stream",
     "text": [
      "[-1.35906712e+04  8.30505521e+04 -5.08114877e+04 -2.34306027e+04\n",
      "  7.80267308e+03  2.39904984e+04  2.82465733e+04 -2.06960744e+03\n",
      " -3.55118320e+03 -7.43232093e+02  1.58408470e+03  3.61252785e+03\n",
      " -1.25459523e+04 -1.51850982e+03 -9.73324548e+02  8.48409612e+03\n",
      " -6.82498761e+04 -3.26956390e+01  1.18115034e+00 -2.15619117e+02\n",
      "  1.16067960e+02  2.67086325e+00 -4.20217152e+00  4.27031411e-02\n",
      "  8.51003333e-02  7.85653412e+02 -1.86822174e+01  1.89155983e+00\n",
      "  1.14936870e+01  4.86888586e-01  2.68385776e-01 -6.12625157e-01\n",
      "  2.85667377e-02  1.91866447e-02  1.18333912e-02  3.88030858e-05\n",
      "  2.15193765e+02 -5.82331029e+03  2.68701152e+00  1.05477363e+02\n",
      "  7.48352378e+03  6.91608498e+01 -3.51421816e+02  3.03641140e+00\n",
      "  9.52646057e+00  4.57497620e+01 -1.00370834e+03  2.22968128e+01\n",
      "  5.60812304e+02  1.24941633e+01 -1.23522400e+01 -5.59600840e+01\n",
      "  2.74259712e-01  1.67964724e+00 -5.41504172e-01  3.68949259e-07\n",
      " -5.69733861e+02 -1.76463255e+01 -1.84787349e+02  4.46505265e+01\n",
      "  3.06422565e+00  2.76922507e+01  4.28078044e+00  2.00349142e-01\n",
      "  1.80662472e-01 -9.11903549e+00 -1.87707259e-02  2.93771007e-01\n",
      " -8.06448331e-02  2.45794034e-02]\n",
      "11037039838.126207\n"
     ]
    }
   ],
   "source": [
    "print(model.coef_)\n",
    "print(model.intercept_)"
   ]
  },
  {
   "cell_type": "code",
   "execution_count": 113,
   "metadata": {},
   "outputs": [],
   "source": [
    "effToParam = {}\n",
    "for i in range(len(optimal)):\n",
    "    effToParam[optimal[i]] = genData[i]"
   ]
  },
  {
   "cell_type": "markdown",
   "metadata": {},
   "source": [
    "### Sorting\n",
    "Sorts and Returns Params for Highest Efficiency Combinations"
   ]
  },
  {
   "cell_type": "code",
   "execution_count": 114,
   "metadata": {},
   "outputs": [
    {
     "name": "stdout",
     "output_type": "stream",
     "text": [
      "Printing Top 50 Combinations of Paramaters\n",
      "Order is as follows:\n",
      "Efficiency,\t\t Temp, Speed, Distance Pressure\n",
      "-----------------------------------\n",
      "6938452018.713572 \t [ 80 200   5  10]\n",
      "6908027800.70772 \t [ 80 200   5   9]\n",
      "6877574936.047945 \t [ 80 200   5   8]\n",
      "6847093465.195467 \t [ 80 200   5   7]\n",
      "6816583429.201357 \t [ 80 200   5   6]\n",
      "6786044869.706598 \t [ 80 200   5   5]\n",
      "6755477828.942118 \t [ 80 200   5   4]\n",
      "6739950916.654634 \t [ 80 199   5  10]\n",
      "6724882349.728678 \t [ 80 200   5   3]\n",
      "6708677346.877825 \t [ 80 199   5   9]\n",
      "6694258475.477015 \t [ 80 200   5   2]\n",
      "6677374649.257372 \t [ 80 199   5   8]\n",
      "6663606250.187792 \t [ 80 200   5   1]\n",
      "6646042865.3385105 \t [ 80 199   5   7]\n",
      "6632925718.451448 \t [ 80 200   5   0]\n",
      "6624130621.487635 \t [ 79 200   5  10]\n",
      "6614682037.25622 \t [ 80 199   5   6]\n",
      "6596842480.778658 \t [ 79 200   5   9]\n",
      "6583292207.735552 \t [ 80 199   5   5]\n",
      "6569527617.171831 \t [ 79 200   5   8]\n",
      "6551873420.091326 \t [ 80 199   5   4]\n",
      "6543688416.439722 \t [ 80 198   5  10]\n",
      "6542186067.879374 \t [ 79 200   5   7]\n",
      "6520425718.228312 \t [ 80 199   5   3]\n",
      "6514817870.703333 \t [ 79 200   5   6]\n",
      "6511582430.385515 \t [ 80 198   5   9]\n",
      "6488949146.641237 \t [ 80 199   5   2]\n",
      "6487423064.035715 \t [ 79 200   5   5]\n",
      "6479446847.554857 \t [ 80 198   5   8]\n",
      "6460001686.858355 \t [ 79 200   5   4]\n",
      "6457443750.414743 \t [ 80 199   5   1]\n",
      "6447281710.5769825 \t [ 80 198   5   7]\n",
      "6435114399.547014 \t [ 79 199   5  10]\n",
      "6432553778.743006 \t [ 79 200   5   3]\n",
      "6425909575.223169 \t [ 80 199   5   0]\n",
      "6415087062.670862 \t [ 80 198   5   6]\n",
      "6406957183.614489 \t [ 79 199   5   9]\n",
      "6405079379.851412 \t [ 79 200   5   2]\n",
      "6382862947.645456 \t [ 80 198   5   5]\n",
      "6378772738.889948 \t [ 79 199   5   8]\n",
      "6377578530.935175 \t [ 79 200   5   1]\n",
      "6350609409.899591 \t [ 80 198   5   4]\n",
      "6350561103.669565 \t [ 79 199   5   7]\n",
      "6350051273.335711 \t [ 79 200   5   0]\n",
      "6349655995.056078 \t [ 80 197   5  10]\n",
      "6322322316.83935 \t [ 79 199   5   6]\n",
      "6318326494.422052 \t [ 80 198   5   3]\n",
      "6316856793.775629 \t [ 78 200   5  10]\n",
      "6316734422.340136 \t [ 80 197   5   9]\n",
      "6294056417.87533 \t [ 79 199   5   5]\n"
     ]
    }
   ],
   "source": [
    "optimal.sort()\n",
    "optimal = np.flip(optimal)\n",
    "numParams = 50\n",
    "print(\"Printing Top {} Combinations of Paramaters\".format(numParams))\n",
    "print(\"Order is as follows:\")\n",
    "print(\"Efficiency,\\t\\t Temp, Speed, Distance Pressure\")\n",
    "print('-'*35)\n",
    "for i in range(numParams):\n",
    "    print(optimal[i], '\\t',  str(effToParam[optimal[i]]))"
   ]
  },
  {
   "cell_type": "markdown",
   "metadata": {},
   "source": [
    "#### Calculating Statistical Values"
   ]
  },
  {
   "cell_type": "code",
   "execution_count": 115,
   "metadata": {},
   "outputs": [
    {
     "name": "stdout",
     "output_type": "stream",
     "text": [
      "\n"
     ]
    },
    {
     "data": {
      "image/png": "[encoded data removed]",
      "text/plain": [
       "<Figure size 432x288 with 1 Axes>"
      ]
     },
     "metadata": {
      "needs_background": "light"
     },
     "output_type": "display_data"
    }
   ],
   "source": [
    "plt.hist(optimal, color='purple')\n",
    "plt.title('Distribution of Efficiencies For Optimization Dataset \\nBased on Linear Regression of Solar Cell Efficiency')\n",
    "plt.xlabel('Percent (%)')\n",
    "plt.ylabel('Occurences')\n",
    "print('')"
   ]
  },
  {
   "cell_type": "markdown",
   "metadata": {},
   "source": [
    "#### Graphing Results"
   ]
  },
  {
   "cell_type": "code",
   "execution_count": null,
   "metadata": {},
   "outputs": [],
   "source": []
  }
 ],
 "metadata": {
  "interpreter": {
   "hash": "af1d514201f653fb50363266ea71fc76cd958ff26bdf77c1b3bc2254b0587c73"
  },
  "kernelspec": {
   "display_name": "Python 3.9.8 64-bit (windows store)",
   "language": "python",
   "name": "python3"
  },
  "language_info": {
   "codemirror_mode": {
    "name": "ipython",
    "version": 3
   },
   "file_extension": ".py",
   "mimetype": "text/x-python",
   "name": "python",
   "nbconvert_exporter": "python",
   "pygments_lexer": "ipython3",
   "version": "3.9.7"
  },
  "orig_nbformat": 4
 },
 "nbformat": 4,
 "nbformat_minor": 2
}
