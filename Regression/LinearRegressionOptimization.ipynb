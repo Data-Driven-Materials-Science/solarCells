{
 "cells": [
  {
   "cell_type": "markdown",
   "metadata": {},
   "source": [
    "# Multivariate Linear Regression Optimization\n",
    "\n",
    "Used for plugging in synthetic optimization dataset to find the optimal value for parameters"
   ]
  },
  {
   "cell_type": "code",
   "execution_count": 78,
   "metadata": {},
   "outputs": [],
   "source": [
    "import numpy as np\n",
    "import matplotlib.mlab as mlab\n",
    "import matplotlib.pyplot as plt\n",
    "import pandas as pd\n",
    "import scipy\n",
    "import math\n",
    "from sklearn import metrics\n",
    "from sklearn.linear_model import LinearRegression\n",
    "from sklearn.model_selection import train_test_split\n",
    "from IPython.display import display"
   ]
  },
  {
   "cell_type": "markdown",
   "metadata": {},
   "source": [
    "### Function Definitions\n",
    "\n",
    "Returns the Linear Regression Equation for the model in a readable format"
   ]
  },
  {
   "cell_type": "code",
   "execution_count": 79,
   "metadata": {},
   "outputs": [],
   "source": [
    "def getEq(weights, cols, intercept):\n",
    "    return ('Formula: y =  {} + {}({}) + {}({}) + {}({}) + {}({})'.format(intercept, weights[0], cols[0], weights[1], cols[1], weights[2], cols[2], weights[3], cols[3]))"
   ]
  },
  {
   "cell_type": "markdown",
   "metadata": {},
   "source": [
    "#### Cleaning Data"
   ]
  },
  {
   "cell_type": "code",
   "execution_count": 80,
   "metadata": {},
   "outputs": [
    {
     "name": "stdout",
     "output_type": "stream",
     "text": [
      "4\n"
     ]
    },
    {
     "data": {
      "text/html": [
       "<div>\n",
       "<style scoped>\n",
       "    .dataframe tbody tr th:only-of-type {\n",
       "        vertical-align: middle;\n",
       "    }\n",
       "\n",
       "    .dataframe tbody tr th {\n",
       "        vertical-align: top;\n",
       "    }\n",
       "\n",
       "    .dataframe thead th {\n",
       "        text-align: right;\n",
       "    }\n",
       "</style>\n",
       "<table border=\"1\" class=\"dataframe\">\n",
       "  <thead>\n",
       "    <tr style=\"text-align: right;\">\n",
       "      <th></th>\n",
       "      <th>Trial</th>\n",
       "      <th>Temperature</th>\n",
       "      <th>Speed</th>\n",
       "      <th>Distance</th>\n",
       "      <th>Pressure</th>\n",
       "      <th>Efficiency</th>\n",
       "    </tr>\n",
       "  </thead>\n",
       "  <tbody>\n",
       "    <tr>\n",
       "      <th>0</th>\n",
       "      <td>0</td>\n",
       "      <td>50.0</td>\n",
       "      <td>125.0</td>\n",
       "      <td>5.0</td>\n",
       "      <td>0.0</td>\n",
       "      <td>0.0</td>\n",
       "    </tr>\n",
       "    <tr>\n",
       "      <th>1</th>\n",
       "      <td>1</td>\n",
       "      <td>50.0</td>\n",
       "      <td>125.0</td>\n",
       "      <td>5.0</td>\n",
       "      <td>1.0</td>\n",
       "      <td>0.0</td>\n",
       "    </tr>\n",
       "    <tr>\n",
       "      <th>2</th>\n",
       "      <td>2</td>\n",
       "      <td>50.0</td>\n",
       "      <td>125.0</td>\n",
       "      <td>5.0</td>\n",
       "      <td>2.0</td>\n",
       "      <td>0.0</td>\n",
       "    </tr>\n",
       "    <tr>\n",
       "      <th>3</th>\n",
       "      <td>3</td>\n",
       "      <td>50.0</td>\n",
       "      <td>125.0</td>\n",
       "      <td>5.0</td>\n",
       "      <td>3.0</td>\n",
       "      <td>0.0</td>\n",
       "    </tr>\n",
       "    <tr>\n",
       "      <th>4</th>\n",
       "      <td>4</td>\n",
       "      <td>50.0</td>\n",
       "      <td>125.0</td>\n",
       "      <td>5.0</td>\n",
       "      <td>4.0</td>\n",
       "      <td>0.0</td>\n",
       "    </tr>\n",
       "    <tr>\n",
       "      <th>...</th>\n",
       "      <td>...</td>\n",
       "      <td>...</td>\n",
       "      <td>...</td>\n",
       "      <td>...</td>\n",
       "      <td>...</td>\n",
       "      <td>...</td>\n",
       "    </tr>\n",
       "    <tr>\n",
       "      <th>4923</th>\n",
       "      <td>4923</td>\n",
       "      <td>80.0</td>\n",
       "      <td>200.0</td>\n",
       "      <td>8.0</td>\n",
       "      <td>6.0</td>\n",
       "      <td>0.0</td>\n",
       "    </tr>\n",
       "    <tr>\n",
       "      <th>4924</th>\n",
       "      <td>4924</td>\n",
       "      <td>80.0</td>\n",
       "      <td>200.0</td>\n",
       "      <td>8.0</td>\n",
       "      <td>7.0</td>\n",
       "      <td>0.0</td>\n",
       "    </tr>\n",
       "    <tr>\n",
       "      <th>4925</th>\n",
       "      <td>4925</td>\n",
       "      <td>80.0</td>\n",
       "      <td>200.0</td>\n",
       "      <td>8.0</td>\n",
       "      <td>8.0</td>\n",
       "      <td>0.0</td>\n",
       "    </tr>\n",
       "    <tr>\n",
       "      <th>4926</th>\n",
       "      <td>4926</td>\n",
       "      <td>80.0</td>\n",
       "      <td>200.0</td>\n",
       "      <td>8.0</td>\n",
       "      <td>9.0</td>\n",
       "      <td>0.0</td>\n",
       "    </tr>\n",
       "    <tr>\n",
       "      <th>4927</th>\n",
       "      <td>4927</td>\n",
       "      <td>80.0</td>\n",
       "      <td>200.0</td>\n",
       "      <td>8.0</td>\n",
       "      <td>10.0</td>\n",
       "      <td>0.0</td>\n",
       "    </tr>\n",
       "  </tbody>\n",
       "</table>\n",
       "<p>4928 rows × 6 columns</p>\n",
       "</div>"
      ],
      "text/plain": [
       "      Trial  Temperature  Speed  Distance  Pressure  Efficiency\n",
       "0         0         50.0  125.0       5.0       0.0         0.0\n",
       "1         1         50.0  125.0       5.0       1.0         0.0\n",
       "2         2         50.0  125.0       5.0       2.0         0.0\n",
       "3         3         50.0  125.0       5.0       3.0         0.0\n",
       "4         4         50.0  125.0       5.0       4.0         0.0\n",
       "...     ...          ...    ...       ...       ...         ...\n",
       "4923   4923         80.0  200.0       8.0       6.0         0.0\n",
       "4924   4924         80.0  200.0       8.0       7.0         0.0\n",
       "4925   4925         80.0  200.0       8.0       8.0         0.0\n",
       "4926   4926         80.0  200.0       8.0       9.0         0.0\n",
       "4927   4927         80.0  200.0       8.0      10.0         0.0\n",
       "\n",
       "[4928 rows x 6 columns]"
      ]
     },
     "metadata": {},
     "output_type": "display_data"
    },
    {
     "data": {
      "text/plain": [
       "array([[ 50., 125.,   5.,   0.],\n",
       "       [ 50., 125.,   5.,   1.],\n",
       "       [ 50., 125.,   5.,   2.],\n",
       "       ...,\n",
       "       [ 80., 200.,   8.,   8.],\n",
       "       [ 80., 200.,   8.,   9.],\n",
       "       [ 80., 200.,   8.,  10.]])"
      ]
     },
     "metadata": {},
     "output_type": "display_data"
    }
   ],
   "source": [
    "cols =['Temp','Speed','Distance','Pressure']\n",
    "collectedDataset = pd.read_csv('../DataSets/deviceSummary.csv')\n",
    "X = collectedDataset.iloc[:, 1:-1].values\n",
    "y = collectedDataset.iloc[:, -1].values\n",
    "\n",
    "#generatedDataset = pd.read_csv('../DataSets/optimizedSyntheticDataset.csv') #100,000 data samples\n",
    "generatedDataset = pd.read_csv('../DataSets/machineAcceptingOptimizedSynthetic.csv') #4000 data samples\n",
    "genData = generatedDataset.iloc[:, 1:-1].values #Remove Trial Number and Efficiency Score"
   ]
  },
  {
   "cell_type": "markdown",
   "metadata": {},
   "source": [
    "#### Spliting Classes"
   ]
  },
  {
   "cell_type": "code",
   "execution_count": 81,
   "metadata": {},
   "outputs": [
    {
     "name": "stdout",
     "output_type": "stream",
     "text": [
      "Test Size: 16\n",
      "Train Size: 90\n"
     ]
    }
   ],
   "source": [
    "X_train, X_test, y_train, y_test = train_test_split(X, y, test_size = 0.15, random_state = 0)\n",
    "print(\"Test Size: \" + str(len(X_test)))\n",
    "print(\"Train Size: \" + str(len(X_train)))"
   ]
  },
  {
   "cell_type": "markdown",
   "metadata": {},
   "source": [
    "#### Calculating Regressions"
   ]
  },
  {
   "cell_type": "code",
   "execution_count": 82,
   "metadata": {},
   "outputs": [
    {
     "name": "stdout",
     "output_type": "stream",
     "text": [
      "[[ 70 150   7   0]\n",
      " [ 50 150   7   7]\n",
      " [ 50 150   7  10]\n",
      " [ 50 150   7   3]\n",
      " [ 70 150   8   0]\n",
      " [ 70 125   7   0]\n",
      " [ 70 200   7   0]\n",
      " [ 70 150   5   0]\n",
      " [ 70 300   7   0]\n",
      " [ 70 100   7   0]\n",
      " [ 90 150   7   0]\n",
      " [ 50 150   7   3]\n",
      " [ 70 300   7   0]\n",
      " [ 70 125   7   0]\n",
      " [ 50 150   7   7]\n",
      " [ 70 150   5   0]\n",
      " [ 50 150   7   7]\n",
      " [ 70 150   5   0]\n",
      " [ 50 150   7  10]\n",
      " [ 60 150   7   0]\n",
      " [ 70 200   7   0]\n",
      " [ 70 150   7   0]\n",
      " [ 80 150   7   0]\n",
      " [ 50 150   7   3]\n",
      " [ 80 150   7   0]\n",
      " [ 50 150   7   7]\n",
      " [ 50 150   7   0]\n",
      " [ 70 100   7   0]\n",
      " [ 50 150   7   7]\n",
      " [ 50 150   7   0]\n",
      " [ 50 150   7   0]\n",
      " [ 70 100   7   0]\n",
      " [ 70 150   7   0]\n",
      " [ 70 150   7   0]\n",
      " [ 50 150   7   0]\n",
      " [ 50 150   7   0]\n",
      " [ 70 100   7   0]\n",
      " [ 50 150   7   3]\n",
      " [ 70 150   6   0]\n",
      " [ 60 150   7   0]\n",
      " [ 70 100   7   0]\n",
      " [ 50 150   7   0]\n",
      " [ 70 200   7   0]\n",
      " [ 60 150   7   0]\n",
      " [ 50 150   7   3]\n",
      " [ 70 150   7   0]\n",
      " [ 80 150   7   0]\n",
      " [ 50 150   7   0]\n",
      " [ 70 200   7   0]\n",
      " [ 70 300   7   0]\n",
      " [ 70 150   5   0]\n",
      " [ 60 150   7   0]\n",
      " [ 50 150   7  10]\n",
      " [ 50 150   7  10]\n",
      " [ 70 300   7   0]\n",
      " [ 50 150   7  10]\n",
      " [ 70 150   7   0]\n",
      " [ 50 150   7   7]\n",
      " [ 70 150   7   0]\n",
      " [ 70 300   7   0]\n",
      " [ 50 150   7   3]\n",
      " [ 70 150   8   0]\n",
      " [ 70 150   8   0]\n",
      " [ 90 150   7   0]\n",
      " [ 70 150   7   0]\n",
      " [ 70 150   6   0]\n",
      " [ 50 150   7   7]\n",
      " [ 50 150   7   7]\n",
      " [ 70 200   7   0]\n",
      " [ 50 150   7   0]\n",
      " [ 50 150   7  10]\n",
      " [ 50 150   7   3]\n",
      " [ 70 150   6   0]\n",
      " [ 50 150   7   0]\n",
      " [ 90 150   7   0]\n",
      " [ 60 150   7   0]\n",
      " [ 70 150   7   0]\n",
      " [ 70 150   5   0]\n",
      " [ 50 150   7  10]\n",
      " [ 50 150   7   7]\n",
      " [ 50 150   7  10]\n",
      " [ 50 150   7   0]\n",
      " [ 70 200   7   0]\n",
      " [ 50 150   7  10]\n",
      " [ 70 125   7   0]\n",
      " [ 70 150   8   0]\n",
      " [ 90 150   7   0]\n",
      " [ 80 150   7   0]\n",
      " [ 50 150   7   3]\n",
      " [ 50 150   7   3]]\n",
      "[[ 50. 125.   5.   0.]\n",
      " [ 50. 125.   5.   1.]\n",
      " [ 50. 125.   5.   2.]\n",
      " ...\n",
      " [ 80. 200.   8.   8.]\n",
      " [ 80. 200.   8.   9.]\n",
      " [ 80. 200.   8.  10.]]\n",
      "Pressure\n",
      "Formula: y =  15.635597816342987 + -0.14620006191377913(Temp) + -0.008506762271706148(Speed) + -0.11195034096118744(Distance) + 0.02868000086458266(Pressure)\n"
     ]
    }
   ],
   "source": [
    "regressor = LinearRegression()\n",
    "regressor.fit(X_train, y_train)\n",
    "optimal = regressor.predict(genData)\n",
    "print(cols[3])\n",
    "print(getEq(regressor.coef_, cols, regressor.intercept_))"
   ]
  },
  {
   "cell_type": "markdown",
   "metadata": {},
   "source": []
  },
  {
   "cell_type": "code",
   "execution_count": 83,
   "metadata": {},
   "outputs": [],
   "source": [
    "effToParam = {}\n",
    "for i in range(len(optimal)):\n",
    "    effToParam[optimal[i]] = genData[i]"
   ]
  },
  {
   "cell_type": "markdown",
   "metadata": {},
   "source": [
    "### Sorting\n",
    "Sorts and Returns Params for Highest Efficiency Combinations"
   ]
  },
  {
   "cell_type": "code",
   "execution_count": 84,
   "metadata": {},
   "outputs": [
    {
     "name": "stdout",
     "output_type": "stream",
     "text": [
      "Printing Top 50 Combinations of Paramaters\n",
      "Order is as follows:\n",
      "Efficiency,\t\t Temp, Speed, Distance Pressure\n",
      "-----------------------------------\n",
      "6.9892977405306524 \t [ 50. 125.   5.  10.]\n",
      "6.96061773966607 \t [ 50. 125.   5.   9.]\n",
      "6.946763929172121 \t [ 50. 130.   5.  10.]\n",
      "6.931937738801487 \t [ 50. 125.   5.   8.]\n",
      "6.918083928307539 \t [ 50. 130.   5.   9.]\n",
      "6.90423011781359 \t [ 50. 135.   5.  10.]\n",
      "6.9032577379369044 \t [ 50. 125.   5.   7.]\n",
      "6.889403927442956 \t [ 50. 130.   5.   8.]\n",
      "6.877347399569464 \t [ 50. 125.   6.  10.]\n",
      "6.875550116949007 \t [ 50. 135.   5.   9.]\n",
      "6.874577737072322 \t [ 50. 125.   5.   6.]\n",
      "6.861696306455059 \t [ 50. 140.   5.  10.]\n",
      "6.860723926578373 \t [ 50. 130.   5.   7.]\n",
      "6.848667398704881 \t [ 50. 125.   6.   9.]\n",
      "6.846870116084425 \t [ 50. 135.   5.   8.]\n",
      "6.845897736207739 \t [ 50. 125.   5.   5.]\n",
      "6.834813588210933 \t [ 50. 130.   6.  10.]\n",
      "6.833016305590476 \t [ 50. 140.   5.   9.]\n",
      "6.832043925713791 \t [ 50. 130.   5.   6.]\n",
      "6.819987397840299 \t [ 50. 125.   6.   8.]\n",
      "6.8191624950965295 \t [ 50. 145.   5.  10.]\n",
      "6.818190115219842 \t [ 50. 135.   5.   7.]\n",
      "6.8172177353431564 \t [ 50. 125.   5.   4.]\n",
      "6.80613358734635 \t [ 50. 130.   6.   9.]\n",
      "6.804336304725894 \t [ 50. 140.   5.   8.]\n",
      "6.803363924849208 \t [ 50. 130.   5.   5.]\n",
      "6.792279776852402 \t [ 50. 135.   6.  10.]\n",
      "6.791307396975716 \t [ 50. 125.   6.   7.]\n",
      "6.790482494231947 \t [ 50. 145.   5.   9.]\n",
      "6.789510114355259 \t [ 50. 135.   5.   6.]\n",
      "6.788537734478574 \t [ 50. 125.   5.   3.]\n",
      "6.7774535864817675 \t [ 50. 130.   6.   8.]\n",
      "6.776628683737998 \t [ 50. 150.   5.  10.]\n",
      "6.775656303861311 \t [ 50. 140.   5.   7.]\n",
      "6.774683923984625 \t [ 50. 130.   5.   4.]\n",
      "6.7653970586082774 \t [ 50. 125.   7.  10.]\n",
      "6.763599775987819 \t [ 50. 135.   6.   9.]\n",
      "6.762627396111133 \t [ 50. 125.   6.   6.]\n",
      "6.761802493367364 \t [ 50. 145.   5.   8.]\n",
      "6.760830113490677 \t [ 50. 135.   5.   5.]\n",
      "6.759857733613991 \t [ 50. 125.   5.   2.]\n",
      "6.7497459654938705 \t [ 50. 140.   6.  10.]\n",
      "6.748773585617185 \t [ 50. 130.   6.   7.]\n",
      "6.747948682873416 \t [ 50. 150.   5.   9.]\n",
      "6.746976302996728 \t [ 50. 140.   5.   6.]\n",
      "6.746003923120043 \t [ 50. 130.   5.   3.]\n",
      "6.736717057743695 \t [ 50. 125.   7.   9.]\n",
      "6.734919775123236 \t [ 50. 135.   6.   8.]\n",
      "6.734094872379467 \t [ 50. 155.   5.  10.]\n",
      "6.733947395246551 \t [ 50. 125.   6.   5.]\n"
     ]
    }
   ],
   "source": [
    "optimal.sort()\n",
    "optimal = np.flip(optimal)\n",
    "numParams = 50\n",
    "print(\"Printing Top {} Combinations of Paramaters\".format(numParams))\n",
    "print(\"Order is as follows:\")\n",
    "print(\"Efficiency,\\t\\t Temp, Speed, Distance Pressure\")\n",
    "print('-'*35)\n",
    "for i in range(numParams):\n",
    "    print(optimal[i], '\\t',  str(effToParam[optimal[i]]))"
   ]
  },
  {
   "cell_type": "markdown",
   "metadata": {},
   "source": [
    "#### Calculating Statistical Values"
   ]
  },
  {
   "cell_type": "code",
   "execution_count": 85,
   "metadata": {},
   "outputs": [
    {
     "name": "stdout",
     "output_type": "stream",
     "text": [
      "\n"
     ]
    },
    {
     "data": {
      "image/png": "[encoded data removed]",
      "text/plain": [
       "<Figure size 432x288 with 1 Axes>"
      ]
     },
     "metadata": {
      "needs_background": "light"
     },
     "output_type": "display_data"
    }
   ],
   "source": [
    "plt.hist(optimal, color='purple')\n",
    "plt.title('Distribution of Efficiencies For Optimization Dataset \\nBased on Linear Regression of Solar Cell Efficiency')\n",
    "plt.xlabel('Percent (%)')\n",
    "plt.ylabel('Occurences')\n",
    "print('')"
   ]
  },
  {
   "cell_type": "markdown",
   "metadata": {},
   "source": [
    "#### Graphing Results"
   ]
  },
  {
   "cell_type": "code",
   "execution_count": null,
   "metadata": {},
   "outputs": [],
   "source": []
  }
 ],
 "metadata": {
  "interpreter": {
   "hash": "af1d514201f653fb50363266ea71fc76cd958ff26bdf77c1b3bc2254b0587c73"
  },
  "kernelspec": {
   "display_name": "Python 3.9.8 64-bit (windows store)",
   "language": "python",
   "name": "python3"
  },
  "language_info": {
   "codemirror_mode": {
    "name": "ipython",
    "version": 3
   },
   "file_extension": ".py",
   "mimetype": "text/x-python",
   "name": "python",
   "nbconvert_exporter": "python",
   "pygments_lexer": "ipython3",
   "version": "3.9.7"
  },
  "orig_nbformat": 4
 },
 "nbformat": 4,
 "nbformat_minor": 2
}
