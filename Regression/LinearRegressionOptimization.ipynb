{
 "cells": [
  {
   "cell_type": "markdown",
   "metadata": {},
   "source": [
    "# Multivariate Linear Regression Optimization\n",
    "\n",
    "Used for plugging in synthetic optimization dataset to find the optimal value for parameters"
   ]
  },
  {
   "cell_type": "code",
   "execution_count": 89,
   "metadata": {},
   "outputs": [],
   "source": [
    "import numpy as np\n",
    "import matplotlib.mlab as mlab\n",
    "import matplotlib.pyplot as plt\n",
    "import pandas as pd\n",
    "import scipy\n",
    "import math\n",
    "from sklearn import metrics\n",
    "from sklearn.linear_model import LinearRegression\n",
    "from sklearn.model_selection import train_test_split"
   ]
  },
  {
   "cell_type": "markdown",
   "metadata": {},
   "source": [
    "### Function Definitions\n",
    "\n",
    "Returns the Linear Regression Equation for the model in a readable format"
   ]
  },
  {
   "cell_type": "code",
   "execution_count": 90,
   "metadata": {},
   "outputs": [],
   "source": [
    "def getEq(weights, cols, intercept):\n",
    "    return ('Formula: y =  {} + {}({}) + {}({}) + {}({}) + {}({})'.format(intercept, weights[0], cols[0], weights[1], cols[1], weights[2], cols[2], weights[3], cols[3]))"
   ]
  },
  {
   "cell_type": "markdown",
   "metadata": {},
   "source": [
    "#### Cleaning Data"
   ]
  },
  {
   "cell_type": "code",
   "execution_count": 91,
   "metadata": {},
   "outputs": [],
   "source": [
    "cols =['Temp','Speed','Distance','Pressure']\n",
    "collectedDataset = pd.read_csv('../deviceSummary.csv')\n",
    "X = collectedDataset.iloc[:, 1:-1].values\n",
    "y = collectedDataset.iloc[:, -1].values\n",
    "\n",
    "generatedDataset = pd.read_csv('../optimizedSyntheticDataset.csv')\n",
    "genData = generatedDataset.iloc[:, 0:-1].values\n",
    "\n"
   ]
  },
  {
   "cell_type": "markdown",
   "metadata": {},
   "source": [
    "#### Spliting Classes"
   ]
  },
  {
   "cell_type": "code",
   "execution_count": 92,
   "metadata": {},
   "outputs": [
    {
     "name": "stdout",
     "output_type": "stream",
     "text": [
      "Test Size: 16\n",
      "Train Size: 90\n"
     ]
    }
   ],
   "source": [
    "X_train, X_test, y_train, y_test = train_test_split(X, y, test_size = 0.15, random_state = 0)\n",
    "print(\"Test Size: \" + str(len(X_test)))\n",
    "print(\"Train Size: \" + str(len(X_train)))"
   ]
  },
  {
   "cell_type": "markdown",
   "metadata": {},
   "source": [
    "#### Calculating Regressions"
   ]
  },
  {
   "cell_type": "code",
   "execution_count": 93,
   "metadata": {},
   "outputs": [
    {
     "name": "stdout",
     "output_type": "stream",
     "text": [
      "Pressure\n",
      "Formula: y =  15.635597816342987 + -0.14620006191377913(Temp) + -0.008506762271706148(Speed) + -0.11195034096118744(Distance) + 0.02868000086458266(Pressure)\n"
     ]
    }
   ],
   "source": [
    "regressor = LinearRegression()\n",
    "regressor.fit(X_train, y_train)\n",
    "optimal = regressor.predict(genData)\n",
    "print(cols[3])\n",
    "print(getEq(regressor.coef_, cols, regressor.intercept_))"
   ]
  },
  {
   "cell_type": "markdown",
   "metadata": {},
   "source": []
  },
  {
   "cell_type": "code",
   "execution_count": 94,
   "metadata": {},
   "outputs": [],
   "source": [
    "effToParam = {}\n",
    "for i in range(len(optimal)):\n",
    "    effToParam[optimal[i]] = genData[i]"
   ]
  },
  {
   "cell_type": "markdown",
   "metadata": {},
   "source": [
    "### Sorting\n",
    "Sorts and Returns Params for Highest Efficiency Combinations"
   ]
  },
  {
   "cell_type": "code",
   "execution_count": 95,
   "metadata": {},
   "outputs": [
    {
     "name": "stdout",
     "output_type": "stream",
     "text": [
      "Printing Top 50 Combinations of Paramaters\n",
      "Order is as follows:\n",
      "Efficiency,\t\t Temp, Speed, Distance Pressure\n",
      "-----------------------------------\n",
      "6.989297740530651 \t [ 50 125   5  10]\n",
      "6.980790978258945 \t [ 50 126   5  10]\n",
      "6.972284215987239 \t [ 50 127   5  10]\n",
      "6.963777453715533 \t [ 50 128   5  10]\n",
      "6.960617739666068 \t [ 50 125   5   9]\n",
      "6.955270691443827 \t [ 50 129   5  10]\n",
      "6.952110977394362 \t [ 50 126   5   9]\n",
      "6.946763929172121 \t [ 50 130   5  10]\n",
      "6.943604215122656 \t [ 50 127   5   9]\n",
      "6.938257166900414 \t [ 50 131   5  10]\n",
      "6.93509745285095 \t [ 50 128   5   9]\n",
      "6.931937738801485 \t [ 50 125   5   8]\n",
      "6.929750404628708 \t [ 50 132   5  10]\n",
      "6.9265906905792445 \t [ 50 129   5   9]\n",
      "6.9234309765297795 \t [ 50 126   5   8]\n",
      "6.921243642357002 \t [ 50 133   5  10]\n",
      "6.918083928307539 \t [ 50 130   5   9]\n",
      "6.914924214258074 \t [ 50 127   5   8]\n",
      "6.912736880085296 \t [ 50 134   5  10]\n",
      "6.909577166035831 \t [ 50 131   5   9]\n",
      "6.906417451986368 \t [ 50 128   5   8]\n",
      "6.90423011781359 \t [ 50 135   5  10]\n",
      "6.903257737936903 \t [ 50 125   5   7]\n",
      "6.901070403764125 \t [ 50 132   5   9]\n",
      "6.897910689714662 \t [ 50 129   5   8]\n",
      "6.895723355541882 \t [ 50 136   5  10]\n",
      "6.894750975665197 \t [ 50 126   5   7]\n",
      "6.892563641492419 \t [ 50 133   5   9]\n",
      "6.889403927442956 \t [ 50 130   5   8]\n",
      "6.8872165932701765 \t [ 50 137   5  10]\n",
      "6.886244213393491 \t [ 50 127   5   7]\n",
      "6.884056879220713 \t [ 50 134   5   9]\n",
      "6.880897165171248 \t [ 50 131   5   8]\n",
      "6.878709830998471 \t [ 50 138   5  10]\n",
      "6.877737451121785 \t [ 50 128   5   7]\n",
      "6.877347399569464 \t [ 50 125   6  10]\n",
      "6.875550116949007 \t [ 50 135   5   9]\n",
      "6.87457773707232 \t [ 50 125   5   6]\n",
      "6.872390402899542 \t [ 50 132   5   8]\n",
      "6.870203068726765 \t [ 50 139   5  10]\n",
      "6.869230688850079 \t [ 50 129   5   7]\n",
      "6.868840637297758 \t [ 50 126   6  10]\n",
      "6.8670433546773 \t [ 50 136   5   9]\n",
      "6.866070974800614 \t [ 50 126   5   6]\n",
      "6.8638836406278365 \t [ 50 133   5   8]\n",
      "6.861696306455059 \t [ 50 140   5  10]\n",
      "6.860723926578373 \t [ 50 130   5   7]\n",
      "6.8603338750260505 \t [ 50 127   6  10]\n",
      "6.858536592405594 \t [ 50 137   5   9]\n",
      "6.857564212528908 \t [ 50 127   5   6]\n"
     ]
    }
   ],
   "source": [
    "optimal.sort()\n",
    "optimal = np.flip(optimal)\n",
    "numParams = 50\n",
    "print(\"Printing Top {} Combinations of Paramaters\".format(numParams))\n",
    "print(\"Order is as follows:\")\n",
    "print(\"Efficiency,\\t\\t Temp, Speed, Distance Pressure\")\n",
    "print('-'*35)\n",
    "for i in range(numParams):\n",
    "    print(optimal[i], '\\t',  str(effToParam[optimal[i]]))"
   ]
  },
  {
   "cell_type": "markdown",
   "metadata": {},
   "source": [
    "#### Calculating Statistical Values"
   ]
  },
  {
   "cell_type": "code",
   "execution_count": 96,
   "metadata": {},
   "outputs": [
    {
     "name": "stdout",
     "output_type": "stream",
     "text": [
      "\n"
     ]
    },
    {
     "data": {
      "image/png": "[encoded data removed]",
      "text/plain": [
       "<Figure size 432x288 with 1 Axes>"
      ]
     },
     "metadata": {
      "needs_background": "light"
     },
     "output_type": "display_data"
    }
   ],
   "source": [
    "plt.hist(optimal, color='purple')\n",
    "plt.title('Distribution of Efficiencies For Optimization Dataset \\nBased on Linear Regression of Solar Cell Efficiency')\n",
    "plt.xlabel('Percent (%)')\n",
    "plt.ylabel('Occurences')\n",
    "print('')"
   ]
  },
  {
   "cell_type": "markdown",
   "metadata": {},
   "source": [
    "#### Graphing Results"
   ]
  },
  {
   "cell_type": "code",
   "execution_count": null,
   "metadata": {},
   "outputs": [],
   "source": []
  }
 ],
 "metadata": {
  "interpreter": {
   "hash": "af1d514201f653fb50363266ea71fc76cd958ff26bdf77c1b3bc2254b0587c73"
  },
  "kernelspec": {
   "display_name": "Python 3.9.8 64-bit (windows store)",
   "language": "python",
   "name": "python3"
  },
  "language_info": {
   "codemirror_mode": {
    "name": "ipython",
    "version": 3
   },
   "file_extension": ".py",
   "mimetype": "text/x-python",
   "name": "python",
   "nbconvert_exporter": "python",
   "pygments_lexer": "ipython3",
   "version": "3.9.7"
  },
  "orig_nbformat": 4
 },
 "nbformat": 4,
 "nbformat_minor": 2
}
