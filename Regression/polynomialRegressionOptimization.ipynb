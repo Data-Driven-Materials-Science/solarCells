{
 "cells": [
  {
   "cell_type": "markdown",
   "metadata": {},
   "source": [
    "# Multivariate Polynomial Regression Optimization\n",
    "\n",
    "Used for plugging in synthetic optimization dataset to find the optimal value for parameters"
   ]
  },
  {
   "cell_type": "code",
   "execution_count": 1,
   "metadata": {},
   "outputs": [],
   "source": [
    "import numpy as np\n",
    "import matplotlib.mlab as mlab\n",
    "import matplotlib.pyplot as plt\n",
    "import pandas as pd\n",
    "import scipy\n",
    "import math\n",
    "from sklearn import metrics\n",
    "from sklearn.model_selection import train_test_split\n",
    "from sklearn.preprocessing import PolynomialFeatures\n",
    "from sklearn.linear_model import LinearRegression\n",
    "from sklearn.model_selection import train_test_split\n",
    "import matplotlib.pyplot as plt\n",
    "import pandas as pd\n",
    "from sklearn.preprocessing import PolynomialFeatures\n",
    "from sklearn import linear_model\n",
    "from sklearn import metrics\n",
    "import matplotlib.pyplot as plt\n",
    "import scipy\n",
    "import math"
   ]
  },
  {
   "cell_type": "markdown",
   "metadata": {},
   "source": [
    "### Function Definitions\n",
    "\n",
    "Returns the Linear Regression Equation for the model in a readable format"
   ]
  },
  {
   "cell_type": "code",
   "execution_count": 2,
   "metadata": {},
   "outputs": [],
   "source": [
    "def getEq(weights, cols, intercept):\n",
    "    return ('Formula: y =  {} + {}({}) + {}({}) + {}({}) + {}({})'.format(intercept, weights[0], cols[0], weights[1], cols[1], weights[2], cols[2], weights[3], cols[3]))"
   ]
  },
  {
   "cell_type": "markdown",
   "metadata": {},
   "source": [
    "#### Cleaning Data"
   ]
  },
  {
   "cell_type": "code",
   "execution_count": 3,
   "metadata": {},
   "outputs": [],
   "source": [
    "cols =['Temp','Speed','Distance','Pressure']\n",
    "dataset = pd.read_csv('../DataSets/deviceSummary.csv')\n",
    "X = dataset.iloc[:, 1:-1].values\n",
    "y = dataset.iloc[:, -1].values\n",
    "splitRatio = 0.25\n",
    "\n",
    "#For full dataset of 100,000\n",
    "#generatedDataset = pd.read_csv('../Datasets/optimizedSyntheticDataset.csv')\n",
    "#genData = generatedDataset.iloc[:, 0:-1].values\n",
    "\n",
    "#For subset of 4,900\n",
    "generatedDataset = pd.read_csv('../DataSets/machineAcceptingOptimizedSynthetic.csv') #4000 data samples\n",
    "genData = generatedDataset.iloc[:, 1:-1].values #Remove Trial Number and Efficiency Score\n"
   ]
  },
  {
   "cell_type": "markdown",
   "metadata": {},
   "source": [
    "#### Spliting Classes"
   ]
  },
  {
   "cell_type": "markdown",
   "metadata": {},
   "source": [
    "#### Calculating Regressions"
   ]
  },
  {
   "cell_type": "code",
   "execution_count": 4,
   "metadata": {},
   "outputs": [
    {
     "name": "stdout",
     "output_type": "stream",
     "text": [
      "R Value: 0.9180357285078597\n",
      "R-Squared: 0.8427895988169568\n",
      "Std-Err: 0.07582910867967792\n",
      "\n"
     ]
    }
   ],
   "source": [
    "poly = PolynomialFeatures(degree=2)\n",
    "poly_variables = poly.fit_transform(X)\n",
    "poly_var_train, poly_var_test, res_train, res_test = train_test_split(poly_variables, y, test_size = splitRatio, random_state = 4)\n",
    "regression = linear_model.LinearRegression()\n",
    "model = regression.fit(poly_var_train, res_train)\n",
    "score = model.score(poly_var_test, res_test)\n",
    "prediction = model.predict(poly_var_test)\n",
    "slope, intercept, r_value, p_value, std_err = scipy.stats.linregress(res_test, prediction)\n",
    "print(\"R Value: \" + str(r_value))\n",
    "print(\"R-Squared: \" + str(r_value*r_value))\n",
    "print(\"Std-Err: \" + str(std_err))\n",
    "polyData = poly.fit_transform(genData)\n",
    "optimal = model.predict(polyData)\n",
    "print('')"
   ]
  },
  {
   "cell_type": "code",
   "execution_count": 5,
   "metadata": {},
   "outputs": [
    {
     "name": "stdout",
     "output_type": "stream",
     "text": [
      "[-1.35906712e+04  8.30505521e+04 -5.08114877e+04 -2.34306027e+04\n",
      "  7.80267308e+03  2.39904984e+04  2.82465733e+04 -2.06960744e+03\n",
      " -3.55118320e+03 -7.43232093e+02  1.58408470e+03  3.61252785e+03\n",
      " -1.25459523e+04 -1.51850982e+03 -9.73324548e+02  8.48409612e+03\n",
      " -6.82498761e+04 -3.26956390e+01  1.18115034e+00 -2.15619117e+02\n",
      "  1.16067960e+02  2.67086325e+00 -4.20217152e+00  4.27031411e-02\n",
      "  8.51003333e-02  7.85653412e+02 -1.86822174e+01  1.89155983e+00\n",
      "  1.14936870e+01  4.86888586e-01  2.68385776e-01 -6.12625157e-01\n",
      "  2.85667377e-02  1.91866447e-02  1.18333912e-02  3.88030858e-05\n",
      "  2.15193765e+02 -5.82331029e+03  2.68701152e+00  1.05477363e+02\n",
      "  7.48352378e+03  6.91608498e+01 -3.51421816e+02  3.03641140e+00\n",
      "  9.52646057e+00  4.57497620e+01 -1.00370834e+03  2.22968128e+01\n",
      "  5.60812304e+02  1.24941633e+01 -1.23522400e+01 -5.59600840e+01\n",
      "  2.74259712e-01  1.67964724e+00 -5.41504172e-01  3.68949259e-07\n",
      " -5.69733861e+02 -1.76463255e+01 -1.84787349e+02  4.46505265e+01\n",
      "  3.06422565e+00  2.76922507e+01  4.28078044e+00  2.00349142e-01\n",
      "  1.80662472e-01 -9.11903549e+00 -1.87707259e-02  2.93771007e-01\n",
      " -8.06448331e-02  2.45794034e-02]\n",
      "11037039838.126207\n"
     ]
    }
   ],
   "source": [
    "print(model.coef_)\n",
    "print(model.intercept_)"
   ]
  },
  {
   "cell_type": "code",
   "execution_count": 6,
   "metadata": {},
   "outputs": [],
   "source": [
    "effToParam = {}\n",
    "for i in range(len(optimal)):\n",
    "    effToParam[optimal[i]] = genData[i]"
   ]
  },
  {
   "cell_type": "markdown",
   "metadata": {},
   "source": [
    "### Sorting\n",
    "Sorts and Returns Params for Highest Efficiency Combinations"
   ]
  },
  {
   "cell_type": "code",
   "execution_count": 7,
   "metadata": {},
   "outputs": [
    {
     "name": "stdout",
     "output_type": "stream",
     "text": [
      "Printing Top 50 Combinations of Paramaters\n",
      "Order is as follows:\n",
      "Efficiency,\t\t Temp, Speed, Distance Pressure\n",
      "-----------------------------------\n",
      "6938452018.713572 \t [ 80. 200.   5.  10.]\n",
      "6908027800.70772 \t [ 80. 200.   5.   9.]\n",
      "6877574936.047945 \t [ 80. 200.   5.   8.]\n",
      "6847093465.195467 \t [ 80. 200.   5.   7.]\n",
      "6816583429.201357 \t [ 80. 200.   5.   6.]\n",
      "6786044869.706598 \t [ 80. 200.   5.   5.]\n",
      "6755477828.942118 \t [ 80. 200.   5.   4.]\n",
      "6724882349.728678 \t [ 80. 200.   5.   3.]\n",
      "6694258475.477015 \t [ 80. 200.   5.   2.]\n",
      "6663606250.187792 \t [ 80. 200.   5.   1.]\n",
      "6632925718.451448 \t [ 80. 200.   5.   0.]\n",
      "5968247296.732264 \t [ 80. 195.   5.  10.]\n",
      "5933744616.02791 \t [ 80. 195.   5.   9.]\n",
      "5899211005.290125 \t [ 80. 195.   5.   8.]\n",
      "5864646510.400026 \t [ 80. 195.   5.   7.]\n",
      "5830051177.828569 \t [ 80. 195.   5.   6.]\n",
      "5795425054.636637 \t [ 80. 195.   5.   5.]\n",
      "5779902536.499285 \t [ 80. 200.   6.  10.]\n",
      "5760768188.474932 \t [ 80. 195.   5.   4.]\n",
      "5747461363.534639 \t [ 80. 200.   6.   9.]\n",
      "5726080627.584208 \t [ 80. 195.   5.   3.]\n",
      "5714991894.945833 \t [ 80. 200.   6.   8.]\n",
      "5691362420.794992 \t [ 80. 195.   5.   2.]\n",
      "5682494171.677881 \t [ 80. 200.   6.   7.]\n",
      "5656613617.527842 \t [ 80. 195.   5.   1.]\n",
      "5649968235.265802 \t [ 80. 200.   6.   6.]\n",
      "5621834267.793085 \t [ 80. 195.   5.   0.]\n",
      "5617414127.834421 \t [ 80. 200.   6.   5.]\n",
      "5584831892.098482 \t [ 80. 200.   6.   4.]\n",
      "5552221571.36268 \t [ 80. 200.   6.   3.]\n",
      "5519583209.521608 \t [ 80. 200.   6.   2.]\n",
      "5486916851.059771 \t [ 80. 200.   6.   1.]\n",
      "5454222541.051508 \t [ 80. 200.   6.   0.]\n",
      "5435974736.933756 \t [ 75. 200.   5.  10.]\n",
      "5420937739.47983 \t [ 75. 200.   5.   9.]\n",
      "5405882095.210924 \t [ 75. 200.   5.   8.]\n",
      "5390807828.343142 \t [ 75. 200.   5.   7.]\n",
      "5375714963.682421 \t [ 75. 200.   5.   6.]\n",
      "5360603526.624636 \t [ 75. 200.   5.   5.]\n",
      "5345473543.1555805 \t [ 75. 200.   5.   4.]\n",
      "5330325039.850847 \t [ 75. 200.   5.   3.]\n",
      "5315158043.876162 \t [ 75. 200.   5.   2.]\n",
      "5299972582.986933 \t [ 75. 200.   5.   1.]\n",
      "5284768685.528559 \t [ 75. 200.   5.   0.]\n",
      "5062758441.277742 \t [ 80. 195.   6.  10.]\n",
      "5053155319.586115 \t [ 80. 190.   5.  10.]\n",
      "5026332244.980249 \t [ 80. 195.   6.   9.]\n",
      "5014986975.727648 \t [ 80. 190.   5.   9.]\n",
      "4989875467.675577 \t [ 80. 195.   6.   8.]\n",
      "4976785724.878832 \t [ 80. 190.   5.   8.]\n"
     ]
    }
   ],
   "source": [
    "optimal.sort()\n",
    "optimal = np.flip(optimal)\n",
    "numParams = 50\n",
    "print(\"Printing Top {} Combinations of Paramaters\".format(numParams))\n",
    "print(\"Order is as follows:\")\n",
    "print(\"Efficiency,\\t\\t Temp, Speed, Distance Pressure\")\n",
    "print('-'*35)\n",
    "for i in range(numParams):\n",
    "    print(optimal[i], '\\t',  str(effToParam[optimal[i]]))"
   ]
  },
  {
   "cell_type": "markdown",
   "metadata": {},
   "source": [
    "#### Calculating Statistical Values"
   ]
  },
  {
   "cell_type": "code",
   "execution_count": 8,
   "metadata": {},
   "outputs": [
    {
     "name": "stdout",
     "output_type": "stream",
     "text": [
      "\n"
     ]
    },
    {
     "data": {
      "image/png": "[encoded data removed]",
      "text/plain": [
       "<Figure size 432x288 with 1 Axes>"
      ]
     },
     "metadata": {
      "needs_background": "light"
     },
     "output_type": "display_data"
    }
   ],
   "source": [
    "plt.hist(optimal, color='purple')\n",
    "plt.title('Distribution of Efficiencies For Optimization Dataset \\nBased on Linear Regression of Solar Cell Efficiency')\n",
    "plt.xlabel('Percent (%)')\n",
    "plt.ylabel('Occurences')\n",
    "print('')"
   ]
  },
  {
   "cell_type": "markdown",
   "metadata": {},
   "source": [
    "#### Graphing Results"
   ]
  },
  {
   "cell_type": "code",
   "execution_count": null,
   "metadata": {},
   "outputs": [],
   "source": []
  }
 ],
 "metadata": {
  "interpreter": {
   "hash": "af1d514201f653fb50363266ea71fc76cd958ff26bdf77c1b3bc2254b0587c73"
  },
  "kernelspec": {
   "display_name": "Python 3.9.8 64-bit (windows store)",
   "language": "python",
   "name": "python3"
  },
  "language_info": {
   "codemirror_mode": {
    "name": "ipython",
    "version": 3
   },
   "file_extension": ".py",
   "mimetype": "text/x-python",
   "name": "python",
   "nbconvert_exporter": "python",
   "pygments_lexer": "ipython3",
   "version": "3.9.7"
  },
  "orig_nbformat": 4
 },
 "nbformat": 4,
 "nbformat_minor": 2
}
