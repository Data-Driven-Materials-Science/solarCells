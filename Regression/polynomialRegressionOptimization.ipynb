{
 "cells": [
  {
   "cell_type": "markdown",
   "metadata": {},
   "source": [
    "# Multivariate Polynomial Regression Optimization\n",
    "\n",
    "Used for plugging in synthetic optimization dataset to find the optimal value for parameters"
   ]
  },
  {
   "cell_type": "code",
   "execution_count": 1,
   "metadata": {},
   "outputs": [],
   "source": [
    "import numpy as np\n",
    "import matplotlib.mlab as mlab\n",
    "import matplotlib.pyplot as plt\n",
    "import pandas as pd\n",
    "import scipy\n",
    "import math\n",
    "from sklearn import metrics\n",
    "from sklearn.model_selection import train_test_split\n",
    "from sklearn.preprocessing import PolynomialFeatures\n",
    "from sklearn.linear_model import LinearRegression\n",
    "from sklearn.model_selection import train_test_split\n",
    "import matplotlib.pyplot as plt\n",
    "import pandas as pd\n",
    "from sklearn.preprocessing import PolynomialFeatures\n",
    "from sklearn import linear_model\n",
    "from sklearn import metrics\n",
    "import matplotlib.pyplot as plt\n",
    "import scipy\n",
    "import math"
   ]
  },
  {
   "cell_type": "markdown",
   "metadata": {},
   "source": [
    "### Function Definitions\n",
    "\n",
    "Returns the Linear Regression Equation for the model in a readable format"
   ]
  },
  {
   "cell_type": "code",
   "execution_count": 2,
   "metadata": {},
   "outputs": [],
   "source": [
    "def getEq(weights, cols, intercept):\n",
    "    return ('Formula: y =  {} + {}({}) + {}({}) + {}({}) + {}({})'.format(intercept, weights[0], cols[0], weights[1], cols[1], weights[2], cols[2], weights[3], cols[3]))"
   ]
  },
  {
   "cell_type": "markdown",
   "metadata": {},
   "source": [
    "#### Cleaning Data"
   ]
  },
  {
   "cell_type": "code",
   "execution_count": 3,
   "metadata": {},
   "outputs": [],
   "source": [
    "cols =['Temp','Speed','Distance','Pressure']\n",
    "dataset = pd.read_csv('../DataSets/deviceSummary.csv')\n",
    "X = dataset.iloc[:, 1:-1].values\n",
    "y = dataset.iloc[:, -1].values\n",
    "splitRatio = 0.25\n",
    "\n",
    "#For full dataset of 100,000\n",
    "#generatedDataset = pd.read_csv('../Datasets/optimizedSyntheticDataset.csv')\n",
    "#genData = generatedDataset.iloc[:, 0:-1].values\n",
    "\n",
    "#For subset of 4,900\n",
    "generatedDataset = pd.read_csv('../DataSets/machineAcceptingOptimizedSynthetic.csv') #4000 data samples\n",
    "genData = generatedDataset.iloc[:, 1:-1].values #Remove Trial Number and Efficiency Score\n"
   ]
  },
  {
   "cell_type": "markdown",
   "metadata": {},
   "source": [
    "#### Spliting Classes"
   ]
  },
  {
   "cell_type": "markdown",
   "metadata": {},
   "source": [
    "#### Calculating Regressions"
   ]
  },
  {
   "cell_type": "code",
   "execution_count": 4,
   "metadata": {},
   "outputs": [
    {
     "name": "stdout",
     "output_type": "stream",
     "text": [
      "R Value: 0.8308480889045943\n",
      "R-Squared: 0.6903085468364166\n",
      "Std-Err: 0.09479068891768234\n",
      "\n"
     ]
    }
   ],
   "source": [
    "poly = PolynomialFeatures(degree=2)\n",
    "poly_variables = poly.fit_transform(X)\n",
    "poly_var_train, poly_var_test, res_train, res_test = train_test_split(poly_variables, y, test_size = splitRatio, random_state = 4)\n",
    "regression = linear_model.LinearRegression()\n",
    "model = regression.fit(poly_var_train, res_train)\n",
    "score = model.score(poly_var_test, res_test)\n",
    "prediction = model.predict(poly_var_test)\n",
    "slope, intercept, r_value, p_value, std_err = scipy.stats.linregress(res_test, prediction)\n",
    "print(\"R Value: \" + str(r_value))\n",
    "print(\"R-Squared: \" + str(r_value*r_value))\n",
    "print(\"Std-Err: \" + str(std_err))\n",
    "polyData = poly.fit_transform(genData)\n",
    "optimal = model.predict(polyData)\n",
    "print('')"
   ]
  },
  {
   "cell_type": "code",
   "execution_count": 5,
   "metadata": {},
   "outputs": [
    {
     "name": "stdout",
     "output_type": "stream",
     "text": [
      "[ 0.00000000e+00  1.59667618e-03 -3.46531973e-03  4.67681265e-04\n",
      "  5.38036602e-05  4.89211178e-04 -3.07095352e-03  4.39144218e-02\n",
      "  2.69018301e-03 -2.66721921e-04  4.58949517e-02  8.07054903e-03\n",
      " -8.03653483e-01  3.76625621e-04 -1.36455810e-01]\n",
      "9.34325541791858\n"
     ]
    }
   ],
   "source": [
    "print(model.coef_)\n",
    "print(model.intercept_)"
   ]
  },
  {
   "cell_type": "code",
   "execution_count": 6,
   "metadata": {},
   "outputs": [],
   "source": [
    "effToParam = {}\n",
    "for i in range(len(optimal)):\n",
    "    effToParam[optimal[i]] = genData[i]"
   ]
  },
  {
   "cell_type": "markdown",
   "metadata": {},
   "source": [
    "### Sorting\n",
    "Sorts and Returns Params for Highest Efficiency Combinations"
   ]
  },
  {
   "cell_type": "code",
   "execution_count": 7,
   "metadata": {},
   "outputs": [
    {
     "name": "stdout",
     "output_type": "stream",
     "text": [
      "Printing Top 50 Combinations of Paramaters\n",
      "Order is as follows:\n",
      "Efficiency,\t\t Temp, Speed, Distance Pressure\n",
      "-----------------------------------\n",
      "14.417319942608026 \t [ 50. 200.   7.   6.]\n",
      "14.394703556856722 \t [ 50. 200.   7.   7.]\n",
      "14.167024709167668 \t [ 50. 200.   7.   5.]\n",
      "14.099175551913744 \t [ 50. 200.   7.   8.]\n",
      "13.880720936627075 \t [ 50. 195.   7.   6.]\n",
      "13.817751805737647 \t [ 50. 195.   7.   7.]\n",
      "13.739956561697905 \t [ 50. 200.   8.   6.]\n",
      "13.717716801567889 \t [ 50. 200.   8.   7.]\n",
      "13.670778448324839 \t [ 50. 195.   7.   5.]\n",
      "13.643817856535643 \t [ 50. 200.   7.   4.]\n",
      "13.530735927779112 \t [ 50. 200.   7.   9.]\n",
      "13.489284702636251 \t [ 50. 200.   8.   5.]\n",
      "13.487376357937928 \t [ 50. 200.   6.   6.]\n",
      "13.481871055656546 \t [ 50. 195.   7.   8.]\n",
      "13.464383346565333 \t [ 50. 200.   6.   7.]\n",
      "13.422565422246194 \t [ 50. 200.   8.   8.]\n",
      "13.330785834598078 \t [ 50. 190.   7.   6.]\n",
      "13.237457750118857 \t [ 50. 200.   6.   5.]\n",
      "13.22889592413657 \t [ 55. 200.   7.   6.]\n",
      "13.227463958570521 \t [ 50. 190.   7.   7.]\n",
      "13.2197304534313 \t [ 55. 200.   7.   7.]\n",
      "13.187924340830936 \t [ 50. 195.   7.   4.]\n",
      "13.180252110301478 \t [ 50. 195.   6.   6.]\n",
      "13.16847871600107 \t [ 50. 200.   6.   8.]\n",
      "13.161196091433967 \t [ 50. 190.   7.   5.]\n",
      "13.11690635379076 \t [ 50. 195.   6.   7.]\n",
      "12.973882797372436 \t [ 50. 195.   8.   6.]\n",
      "12.970686247620534 \t [ 50. 195.   6.   5.]\n",
      "12.96570122438294 \t [ 50. 200.   8.   4.]\n",
      "12.965149775650174 \t [ 55. 200.   7.   5.]\n",
      "12.93765336353437 \t [ 55. 200.   7.   8.]\n",
      "12.91129029210429 \t [ 50. 195.   8.   7.]\n",
      "12.873078686383792 \t [ 50. 195.   7.   9.]\n",
      "12.859791766616993 \t [ 50. 190.   6.   6.]\n",
      "12.854502423732853 \t [ 50. 200.   8.   9.]\n",
      "12.851230463351305 \t [ 50. 190.   7.   8.]\n",
      "12.84769938471196 \t [ 50. 200.   7.   3.]\n",
      "12.780648978088374 \t [ 50. 195.   6.   8.]\n",
      "12.771104652443288 \t [ 55. 200.   8.   6.]\n",
      "12.769070756227375 \t [ 55. 195.   7.   6.]\n",
      "12.76751463652106 \t [ 50. 185.   7.   6.]\n",
      "12.763563683448915 \t [ 50. 195.   8.   5.]\n",
      "12.762315807359307 \t [ 55. 200.   8.   7.]\n",
      "12.756093264968154 \t [ 50. 190.   6.   7.]\n",
      "12.71955254038399 \t [ 55. 195.   7.   7.]\n",
      "12.718694729078186 \t [ 50. 190.   7.   4.]\n",
      "12.714627523108126 \t [ 50. 200.   6.   4.]\n",
      "12.690578649074173 \t [ 50. 190.   6.   5.]\n",
      "12.689384684452818 \t [ 50. 200.   7.  10.]\n",
      "12.638277638495072 \t [ 50. 185.   7.   5.]\n"
     ]
    }
   ],
   "source": [
    "optimal.sort()\n",
    "optimal = np.flip(optimal)\n",
    "numParams = 50\n",
    "print(\"Printing Top {} Combinations of Paramaters\".format(numParams))\n",
    "print(\"Order is as follows:\")\n",
    "print(\"Efficiency,\\t\\t Temp, Speed, Distance Pressure\")\n",
    "print('-'*35)\n",
    "for i in range(numParams):\n",
    "    print(optimal[i], '\\t',  str(effToParam[optimal[i]]))"
   ]
  },
  {
   "cell_type": "markdown",
   "metadata": {},
   "source": [
    "#### Calculating Statistical Values"
   ]
  },
  {
   "cell_type": "code",
   "execution_count": 8,
   "metadata": {},
   "outputs": [
    {
     "name": "stdout",
     "output_type": "stream",
     "text": [
      "\n"
     ]
    },
    {
     "data": {
      "image/png": "[encoded data removed]",
      "text/plain": [
       "<Figure size 432x288 with 1 Axes>"
      ]
     },
     "metadata": {
      "needs_background": "light"
     },
     "output_type": "display_data"
    }
   ],
   "source": [
    "plt.hist(optimal, color='purple')\n",
    "plt.title('Distribution of Efficiencies For Optimization Dataset \\nBased on Linear Regression of Solar Cell Efficiency')\n",
    "plt.xlabel('Percent (%)')\n",
    "plt.ylabel('Occurences')\n",
    "print('')"
   ]
  },
  {
   "cell_type": "markdown",
   "metadata": {},
   "source": [
    "#### Graphing Results"
   ]
  },
  {
   "cell_type": "code",
   "execution_count": 11,
   "metadata": {},
   "outputs": [
    {
     "name": "stdout",
     "output_type": "stream",
     "text": [
      "R Value: 0.6660133157910396\n",
      "R-Squared: 0.44357373681097506\n",
      "Std-Err: 0.11888756484855899\n",
      "RMSE: 1.9125657738250017\n",
      "0\n",
      "0\n",
      "R Value: 0.8308480889045943\n",
      "R-Squared: 0.6903085468364166\n",
      "Std-Err: 0.09479068891768234\n",
      "RMSE: 1.404864757497459\n",
      "0\n",
      "1\n",
      "R Value: 0.9035338164021743\n",
      "R-Squared: 0.8163733573822781\n",
      "Std-Err: 0.08209027241726752\n",
      "RMSE: 1.098356392694196\n",
      "0\n",
      "2\n",
      "R Value: 0.9180357285078597\n",
      "R-Squared: 0.8427895988169568\n",
      "Std-Err: 0.07582910867967792\n",
      "RMSE: 1.0005174500621137\n",
      "1\n",
      "0\n",
      "R Value: 0.9184232768640735\n",
      "R-Squared: 0.8435013154857427\n",
      "Std-Err: 0.0763544126674245\n",
      "RMSE: 1.0002648396058829\n",
      "1\n",
      "1\n"
     ]
    },
    {
     "data": {
      "image/png": "[encoded data removed]",
      "text/plain": [
       "<Figure size 1440x720 with 6 Axes>"
      ]
     },
     "metadata": {
      "needs_background": "light"
     },
     "output_type": "display_data"
    }
   ],
   "source": [
    "\n",
    "fig, ax = plt.subplots(2,3, figsize=(20,10))\n",
    "ax[1][2].set_visible(False)\n",
    "ax[1][0].set_position([0.24,0.07,0.228,0.343])\n",
    "ax[1][1].set_position([0.55,0.07,0.228,0.343])\n",
    "counter = 0\n",
    "for i in range(1,6):\n",
    "    poly = PolynomialFeatures(degree=i)\n",
    "    poly_variables = poly.fit_transform(X)\n",
    "    poly_var_train, poly_var_test, res_train, res_test = train_test_split(poly_variables, y, test_size = splitRatio, random_state = 4)\n",
    "    regression = linear_model.LinearRegression()\n",
    "    model = regression.fit(poly_var_train, res_train)\n",
    "    score = model.score(poly_var_test, res_test)\n",
    "    prediction = model.predict(poly_var_test)\n",
    "    slope, intercept, r_value, p_value, std_err = scipy.stats.linregress(res_test, prediction)\n",
    "    mse = metrics.mean_squared_error(res_test, prediction)\n",
    "    rmse = math.sqrt(mse)\n",
    "    polyData = poly.fit_transform(genData)\n",
    "    optimal = model.predict(polyData)\n",
    "    ax[int(counter / 3), (counter % 3)].hist(optimal, color='purple')\n",
    "    ax[int(counter / 3), (counter % 3)].set_title(\"Distribution of Predicted Efficiencies for all \\nFabrication Parameter Combinations Trained \\nby Model with Degree \" + str(i))\n",
    "    ax[int(counter / 3), (counter % 3)].set_ylabel(\"Frequency\")\n",
    "    ax[int(counter / 3), (counter % 3)].set_xlabel(\"Prediction PCE (%)\")\n",
    "    print(\"R Value: \" + str(r_value))\n",
    "    print(\"R-Squared: \" + str(r_value*r_value))\n",
    "    print(\"Std-Err: \" + str(std_err))\n",
    "    print('RMSE: ' + str(rmse))\n",
    "    print(int(counter / 3))\n",
    "    print((counter % 3))\n",
    "    counter += 1\n",
    "    \n",
    "plt.show()"
   ]
  }
 ],
 "metadata": {
  "kernelspec": {
   "display_name": "Python 3.9.7 ('base')",
   "language": "python",
   "name": "python3"
  },
  "language_info": {
   "codemirror_mode": {
    "name": "ipython",
    "version": 3
   },
   "file_extension": ".py",
   "mimetype": "text/x-python",
   "name": "python",
   "nbconvert_exporter": "python",
   "pygments_lexer": "ipython3",
   "version": "3.9.13"
  },
  "orig_nbformat": 4,
  "vscode": {
   "interpreter": {
    "hash": "a21a4d8430ca198249bdb796151de090f5777c48c0e324da81ff190d429db2a2"
   }
  }
 },
 "nbformat": 4,
 "nbformat_minor": 2
}
