{
 "cells": [
  {
   "cell_type": "markdown",
   "metadata": {},
   "source": [
    "# Starting Multivariate Regression\n",
    "Code here is pulled from: https://towardsdatascience.com/building-a-logistic-regression-in-python-step-by-step-becd4d56c9c8"
   ]
  },
  {
   "cell_type": "code",
   "execution_count": 19,
   "metadata": {},
   "outputs": [],
   "source": [
    "import numpy as np\n",
    "import matplotlib.mlab as mlab\n",
    "import matplotlib.pyplot as plt\n",
    "import pandas as pd\n",
    "import scipy\n",
    "import math\n",
    "from sklearn import metrics\n",
    "from sklearn.linear_model import LinearRegression\n",
    "from sklearn.model_selection import train_test_split\n",
    "import statsmodels.api as sm"
   ]
  },
  {
   "cell_type": "markdown",
   "metadata": {},
   "source": [
    "#### Cleaning Data"
   ]
  },
  {
   "cell_type": "code",
   "execution_count": 20,
   "metadata": {},
   "outputs": [],
   "source": [
    "dataset = pd.read_csv('../deviceSummary.csv')\n",
    "X = dataset.iloc[:, 1:-1].values\n",
    "y = dataset.iloc[:, -1].values"
   ]
  },
  {
   "cell_type": "markdown",
   "metadata": {},
   "source": [
    "#### Spliting Classes"
   ]
  },
  {
   "cell_type": "code",
   "execution_count": 21,
   "metadata": {},
   "outputs": [
    {
     "name": "stdout",
     "output_type": "stream",
     "text": [
      "Test Size: 32\n",
      "Train Size: 74\n"
     ]
    }
   ],
   "source": [
    "X_train, X_test, y_train, y_test = train_test_split(X, y, test_size = 0.3, random_state = 0)\n",
    "print(\"Test Size: \" + str(len(X_test)))\n",
    "print(\"Train Size: \" + str(len(X_train)))\n",
    "\n",
    "\n"
   ]
  },
  {
   "cell_type": "code",
   "execution_count": 25,
   "metadata": {},
   "outputs": [
    {
     "name": "stdout",
     "output_type": "stream",
     "text": [
      "Minimum: 0.93\n",
      "Maximum: 9.73\n",
      "[0.0923 0.0367 0.0305 0.0133 0.042  0.0483 0.0302 0.0648 0.0281 0.0927\n",
      " 0.0691 0.018  0.0884 0.069  0.0692 0.0101 0.0545 0.0534 0.0671 0.0524\n",
      " 0.0186 0.07   0.0287 0.0124 0.0134 0.06   0.0389 0.0562 0.063  0.0528\n",
      " 0.0348 0.0494 0.0209 0.0103 0.0417 0.0557 0.0546 0.0462 0.0131 0.048\n",
      " 0.0561 0.0901 0.0337 0.0093 0.0644 0.0113 0.0104 0.0173 0.0456 0.0133\n",
      " 0.0931 0.0973 0.0138 0.0685 0.0547 0.0769 0.07   0.067  0.0156 0.0288\n",
      " 0.0543 0.0173 0.0507 0.0961 0.0494 0.0611 0.0376 0.0324 0.0109 0.0323\n",
      " 0.0101 0.0535 0.0665 0.069 ]\n",
      "[[ 50 150   7   7]\n",
      " [ 70 150   5   0]\n",
      " [ 50 150   7  10]\n",
      " [ 60 150   7   0]\n",
      " [ 70 200   7   0]\n",
      " [ 70 150   7   0]\n",
      " [ 80 150   7   0]\n",
      " [ 50 150   7   3]\n",
      " [ 80 150   7   0]\n",
      " [ 50 150   7   7]\n",
      " [ 50 150   7   0]\n",
      " [ 70 100   7   0]\n",
      " [ 50 150   7   7]\n",
      " [ 50 150   7   0]\n",
      " [ 50 150   7   0]\n",
      " [ 70 100   7   0]\n",
      " [ 70 150   7   0]\n",
      " [ 70 150   7   0]\n",
      " [ 50 150   7   0]\n",
      " [ 50 150   7   0]\n",
      " [ 70 100   7   0]\n",
      " [ 50 150   7   3]\n",
      " [ 70 150   6   0]\n",
      " [ 60 150   7   0]\n",
      " [ 70 100   7   0]\n",
      " [ 50 150   7   0]\n",
      " [ 70 200   7   0]\n",
      " [ 60 150   7   0]\n",
      " [ 50 150   7   3]\n",
      " [ 70 150   7   0]\n",
      " [ 80 150   7   0]\n",
      " [ 50 150   7   0]\n",
      " [ 70 200   7   0]\n",
      " [ 70 300   7   0]\n",
      " [ 70 150   5   0]\n",
      " [ 60 150   7   0]\n",
      " [ 50 150   7  10]\n",
      " [ 50 150   7  10]\n",
      " [ 70 300   7   0]\n",
      " [ 50 150   7  10]\n",
      " [ 70 150   7   0]\n",
      " [ 50 150   7   7]\n",
      " [ 70 150   7   0]\n",
      " [ 70 300   7   0]\n",
      " [ 50 150   7   3]\n",
      " [ 70 150   8   0]\n",
      " [ 70 150   8   0]\n",
      " [ 90 150   7   0]\n",
      " [ 70 150   7   0]\n",
      " [ 70 150   6   0]\n",
      " [ 50 150   7   7]\n",
      " [ 50 150   7   7]\n",
      " [ 70 200   7   0]\n",
      " [ 50 150   7   0]\n",
      " [ 50 150   7  10]\n",
      " [ 50 150   7   3]\n",
      " [ 70 150   6   0]\n",
      " [ 50 150   7   0]\n",
      " [ 90 150   7   0]\n",
      " [ 60 150   7   0]\n",
      " [ 70 150   7   0]\n",
      " [ 70 150   5   0]\n",
      " [ 50 150   7  10]\n",
      " [ 50 150   7   7]\n",
      " [ 50 150   7  10]\n",
      " [ 50 150   7   0]\n",
      " [ 70 200   7   0]\n",
      " [ 50 150   7  10]\n",
      " [ 70 125   7   0]\n",
      " [ 70 150   8   0]\n",
      " [ 90 150   7   0]\n",
      " [ 80 150   7   0]\n",
      " [ 50 150   7   3]\n",
      " [ 50 150   7   3]]\n"
     ]
    }
   ],
   "source": [
    "print(\"Minimum: \" + str(y_train.min()))\n",
    "print(\"Maximum: \" + str(y_train.max()))\n",
    "for i in range(len(y_train)):\n",
    "    y_train[i] = y_train[i]/100\n",
    "print(y_train)\n",
    "print(X_train)"
   ]
  },
  {
   "cell_type": "markdown",
   "metadata": {},
   "source": [
    "#### Calculating Regressions"
   ]
  },
  {
   "cell_type": "code",
   "execution_count": 24,
   "metadata": {},
   "outputs": [
    {
     "ename": "ValueError",
     "evalue": "Unknown label type: 'continuous'",
     "output_type": "error",
     "traceback": [
      "\u001b[0;31m---------------------------------------------------------------------------\u001b[0m",
      "\u001b[0;31mValueError\u001b[0m                                Traceback (most recent call last)",
      "\u001b[0;32m/var/folders/d6/w5lhymqx5t54lp1mlcl9tvqc0000gn/T/ipykernel_58096/201583235.py\u001b[0m in \u001b[0;36m<module>\u001b[0;34m\u001b[0m\n\u001b[1;32m      3\u001b[0m \u001b[0mX_train\u001b[0m\u001b[0;34m,\u001b[0m \u001b[0mX_test\u001b[0m\u001b[0;34m,\u001b[0m \u001b[0my_train\u001b[0m\u001b[0;34m,\u001b[0m \u001b[0my_test\u001b[0m \u001b[0;34m=\u001b[0m \u001b[0mtrain_test_split\u001b[0m\u001b[0;34m(\u001b[0m\u001b[0mX\u001b[0m\u001b[0;34m,\u001b[0m \u001b[0my\u001b[0m\u001b[0;34m,\u001b[0m \u001b[0mtest_size\u001b[0m\u001b[0;34m=\u001b[0m\u001b[0;36m0.3\u001b[0m\u001b[0;34m,\u001b[0m \u001b[0mrandom_state\u001b[0m\u001b[0;34m=\u001b[0m\u001b[0;36m0\u001b[0m\u001b[0;34m)\u001b[0m\u001b[0;34m\u001b[0m\u001b[0;34m\u001b[0m\u001b[0m\n\u001b[1;32m      4\u001b[0m \u001b[0mlogreg\u001b[0m \u001b[0;34m=\u001b[0m \u001b[0mLogisticRegression\u001b[0m\u001b[0;34m(\u001b[0m\u001b[0;34m)\u001b[0m\u001b[0;34m\u001b[0m\u001b[0;34m\u001b[0m\u001b[0m\n\u001b[0;32m----> 5\u001b[0;31m \u001b[0mlogreg\u001b[0m\u001b[0;34m.\u001b[0m\u001b[0mfit\u001b[0m\u001b[0;34m(\u001b[0m\u001b[0mX_train\u001b[0m\u001b[0;34m,\u001b[0m \u001b[0my_train\u001b[0m\u001b[0;34m)\u001b[0m\u001b[0;34m\u001b[0m\u001b[0;34m\u001b[0m\u001b[0m\n\u001b[0m",
      "\u001b[0;32m~/opt/anaconda3/lib/python3.9/site-packages/sklearn/linear_model/_logistic.py\u001b[0m in \u001b[0;36mfit\u001b[0;34m(self, X, y, sample_weight)\u001b[0m\n\u001b[1;32m   1514\u001b[0m             \u001b[0maccept_large_sparse\u001b[0m\u001b[0;34m=\u001b[0m\u001b[0msolver\u001b[0m \u001b[0;32mnot\u001b[0m \u001b[0;32min\u001b[0m \u001b[0;34m[\u001b[0m\u001b[0;34m\"liblinear\"\u001b[0m\u001b[0;34m,\u001b[0m \u001b[0;34m\"sag\"\u001b[0m\u001b[0;34m,\u001b[0m \u001b[0;34m\"saga\"\u001b[0m\u001b[0;34m]\u001b[0m\u001b[0;34m,\u001b[0m\u001b[0;34m\u001b[0m\u001b[0;34m\u001b[0m\u001b[0m\n\u001b[1;32m   1515\u001b[0m         )\n\u001b[0;32m-> 1516\u001b[0;31m         \u001b[0mcheck_classification_targets\u001b[0m\u001b[0;34m(\u001b[0m\u001b[0my\u001b[0m\u001b[0;34m)\u001b[0m\u001b[0;34m\u001b[0m\u001b[0;34m\u001b[0m\u001b[0m\n\u001b[0m\u001b[1;32m   1517\u001b[0m         \u001b[0mself\u001b[0m\u001b[0;34m.\u001b[0m\u001b[0mclasses_\u001b[0m \u001b[0;34m=\u001b[0m \u001b[0mnp\u001b[0m\u001b[0;34m.\u001b[0m\u001b[0munique\u001b[0m\u001b[0;34m(\u001b[0m\u001b[0my\u001b[0m\u001b[0;34m)\u001b[0m\u001b[0;34m\u001b[0m\u001b[0;34m\u001b[0m\u001b[0m\n\u001b[1;32m   1518\u001b[0m \u001b[0;34m\u001b[0m\u001b[0m\n",
      "\u001b[0;32m~/opt/anaconda3/lib/python3.9/site-packages/sklearn/utils/multiclass.py\u001b[0m in \u001b[0;36mcheck_classification_targets\u001b[0;34m(y)\u001b[0m\n\u001b[1;32m    195\u001b[0m         \u001b[0;34m\"multilabel-sequences\"\u001b[0m\u001b[0;34m,\u001b[0m\u001b[0;34m\u001b[0m\u001b[0;34m\u001b[0m\u001b[0m\n\u001b[1;32m    196\u001b[0m     ]:\n\u001b[0;32m--> 197\u001b[0;31m         \u001b[0;32mraise\u001b[0m \u001b[0mValueError\u001b[0m\u001b[0;34m(\u001b[0m\u001b[0;34m\"Unknown label type: %r\"\u001b[0m \u001b[0;34m%\u001b[0m \u001b[0my_type\u001b[0m\u001b[0;34m)\u001b[0m\u001b[0;34m\u001b[0m\u001b[0;34m\u001b[0m\u001b[0m\n\u001b[0m\u001b[1;32m    198\u001b[0m \u001b[0;34m\u001b[0m\u001b[0m\n\u001b[1;32m    199\u001b[0m \u001b[0;34m\u001b[0m\u001b[0m\n",
      "\u001b[0;31mValueError\u001b[0m: Unknown label type: 'continuous'"
     ]
    }
   ],
   "source": [
    "from sklearn.linear_model import LogisticRegression\n",
    "from sklearn import metrics\n",
    "X_train, X_test, y_train, y_test = train_test_split(X, y, test_size=0.3, random_state=0)\n",
    "logreg = LogisticRegression()\n",
    "logreg.fit(X_train, y_train)"
   ]
  },
  {
   "cell_type": "markdown",
   "metadata": {},
   "source": [
    "#### Calculating Statistical Values"
   ]
  },
  {
   "cell_type": "code",
   "execution_count": null,
   "metadata": {},
   "outputs": [
    {
     "name": "stdout",
     "output_type": "stream",
     "text": [
      "R Value: 0.7659707637045329\n",
      "R-Squared: 0.5867112108501054\n",
      "Std-Err: 0.06916478154443906\n"
     ]
    }
   ],
   "source": [
    "slope, intercept, r_value, p_value, std_err = scipy.stats.linregress(y_test, y_pred)\n",
    "mse = metrics.mean_squared_error(y_test, y_pred)\n",
    "rmse = math.sqrt(mse)\n",
    "print(\"R Value: \" + str(r_value))\n",
    "print(\"R-Squared: \" + str(r_value*r_value))\n",
    "print(\"Std-Err: \" + str(std_err))"
   ]
  },
  {
   "cell_type": "markdown",
   "metadata": {},
   "source": [
    "#### Graphing Results"
   ]
  },
  {
   "cell_type": "code",
   "execution_count": null,
   "metadata": {},
   "outputs": [
    {
     "name": "stdout",
     "output_type": "stream",
     "text": [
      "\n"
     ]
    },
    {
     "data": {
      "image/png": "[encoded data removed]",
      "text/plain": [
       "<Figure size 432x288 with 1 Axes>"
      ]
     },
     "metadata": {
      "needs_background": "light"
     },
     "output_type": "display_data"
    }
   ],
   "source": [
    "plt.scatter(y_test, y_pred, color='purple')\n",
    "plt.plot(y_test, slope*y_test + intercept, color='green', label=\"Actual\")\n",
    "plt.plot(y_test, y_test, color='blue', label=\"Optimal\")\n",
    "plt.title(\"Solar Cell Efficiency: Predicted vs Actual\")\n",
    "plt.xlabel(\"Actual Efficiency\")\n",
    "plt.ylabel(\"Predicted Efficency\")\n",
    "plt.legend()\n",
    "print('')"
   ]
  }
 ],
 "metadata": {
  "kernelspec": {
   "display_name": "Python 3.9.13 ('base')",
   "language": "python",
   "name": "python3"
  },
  "language_info": {
   "codemirror_mode": {
    "name": "ipython",
    "version": 3
   },
   "file_extension": ".py",
   "mimetype": "text/x-python",
   "name": "python",
   "nbconvert_exporter": "python",
   "pygments_lexer": "ipython3",
   "version": "3.9.13"
  },
  "orig_nbformat": 4,
  "vscode": {
   "interpreter": {
    "hash": "a21a4d8430ca198249bdb796151de090f5777c48c0e324da81ff190d429db2a2"
   }
  }
 },
 "nbformat": 4,
 "nbformat_minor": 2
}
