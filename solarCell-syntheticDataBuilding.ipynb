{
 "cells": [
  {
   "cell_type": "markdown",
   "metadata": {},
   "source": [
    "# Creating Synthetic Dataset\n",
    "The objective of this code is to create an artificicial dataset encompassing all the values within a given range for each feature seperated by an assiagned sensitivity. This synthetic dataset will then be able to be plugged into the regression model to search and save optimal values. "
   ]
  },
  {
   "cell_type": "code",
   "execution_count": 1,
   "metadata": {},
   "outputs": [],
   "source": [
    "import numpy as np\n",
    "import matplotlib.mlab as mlab\n",
    "import matplotlib.pyplot as plt\n",
    "import pandas as pd\n",
    "from random import *"
   ]
  },
  {
   "cell_type": "markdown",
   "metadata": {},
   "source": [
    "#### Reads in data to ensure compatibility of synthetic and real dataset"
   ]
  },
  {
   "cell_type": "code",
   "execution_count": 2,
   "metadata": {},
   "outputs": [
    {
     "name": "stdout",
     "output_type": "stream",
     "text": [
      "['devices', 'temperature', 'speed', 'distance', 'pressure', 'efficiency']\n"
     ]
    }
   ],
   "source": [
    "df = pd.read_csv('deviceSummary.csv')\n",
    "columns = list(df.columns)\n",
    "print(columns)"
   ]
  },
  {
   "cell_type": "code",
   "execution_count": 3,
   "metadata": {},
   "outputs": [],
   "source": [
    "def getRange(regions, tempMin, tempMax):\n",
    "    tempRange = tempMax - tempMin\n",
    "    tempIncrements = tempRange / regions\n",
    "    tempBins = []\n",
    "    for i in range(4):\n",
    "        tempBins.append(int(tempMin + tempIncrements*i))\n",
    "    tempBins.append(tempMax)\n",
    "    return tempBins\n"
   ]
  },
  {
   "cell_type": "code",
   "execution_count": 4,
   "metadata": {},
   "outputs": [
    {
     "name": "stdout",
     "output_type": "stream",
     "text": [
      "[50, 57, 65, 72, 80]\n",
      "[125, 143, 162, 181, 200]\n",
      "[500, 575, 650, 725, 800]\n",
      "[0, 25, 50, 75, 100]\n"
     ]
    }
   ],
   "source": [
    "bins = 4\n",
    "temperatureRange, speedRange, distanceRange, pressureRange = getRange(bins, 50, 80), getRange(bins, 125, 200), getRange(bins, 500, 800), getRange(bins, 0, 100)\n",
    "print(temperatureRange)\n",
    "print(speedRange)\n",
    "print(distanceRange) # Multiplied by 100 to prevent decimals\n",
    "print(pressureRange) # Multiplied by 10 to prevent decimals\n",
    "\n"
   ]
  },
  {
   "cell_type": "code",
   "execution_count": 5,
   "metadata": {},
   "outputs": [
    {
     "data": {
      "text/html": [
       "<div>\n",
       "<style scoped>\n",
       "    .dataframe tbody tr th:only-of-type {\n",
       "        vertical-align: middle;\n",
       "    }\n",
       "\n",
       "    .dataframe tbody tr th {\n",
       "        vertical-align: top;\n",
       "    }\n",
       "\n",
       "    .dataframe thead th {\n",
       "        text-align: right;\n",
       "    }\n",
       "</style>\n",
       "<table border=\"1\" class=\"dataframe\">\n",
       "  <thead>\n",
       "    <tr style=\"text-align: right;\">\n",
       "      <th></th>\n",
       "      <th>Temperature</th>\n",
       "      <th>Speed</th>\n",
       "      <th>Distance</th>\n",
       "      <th>Pressure</th>\n",
       "      <th>device</th>\n",
       "    </tr>\n",
       "  </thead>\n",
       "  <tbody>\n",
       "    <tr>\n",
       "      <th>0</th>\n",
       "      <td>57</td>\n",
       "      <td>130</td>\n",
       "      <td>6</td>\n",
       "      <td>2</td>\n",
       "      <td>0.0</td>\n",
       "    </tr>\n",
       "    <tr>\n",
       "      <th>1</th>\n",
       "      <td>57</td>\n",
       "      <td>125</td>\n",
       "      <td>5</td>\n",
       "      <td>5</td>\n",
       "      <td>0.0</td>\n",
       "    </tr>\n",
       "    <tr>\n",
       "      <th>2</th>\n",
       "      <td>52</td>\n",
       "      <td>125</td>\n",
       "      <td>5</td>\n",
       "      <td>5</td>\n",
       "      <td>0.0</td>\n",
       "    </tr>\n",
       "    <tr>\n",
       "      <th>3</th>\n",
       "      <td>55</td>\n",
       "      <td>139</td>\n",
       "      <td>6</td>\n",
       "      <td>9</td>\n",
       "      <td>0.0</td>\n",
       "    </tr>\n",
       "    <tr>\n",
       "      <th>4</th>\n",
       "      <td>51</td>\n",
       "      <td>125</td>\n",
       "      <td>6</td>\n",
       "      <td>2</td>\n",
       "      <td>0.0</td>\n",
       "    </tr>\n",
       "    <tr>\n",
       "      <th>...</th>\n",
       "      <td>...</td>\n",
       "      <td>...</td>\n",
       "      <td>...</td>\n",
       "      <td>...</td>\n",
       "      <td>...</td>\n",
       "    </tr>\n",
       "    <tr>\n",
       "      <th>251</th>\n",
       "      <td>73</td>\n",
       "      <td>190</td>\n",
       "      <td>7</td>\n",
       "      <td>9</td>\n",
       "      <td>0.0</td>\n",
       "    </tr>\n",
       "    <tr>\n",
       "      <th>252</th>\n",
       "      <td>80</td>\n",
       "      <td>182</td>\n",
       "      <td>8</td>\n",
       "      <td>2</td>\n",
       "      <td>0.0</td>\n",
       "    </tr>\n",
       "    <tr>\n",
       "      <th>253</th>\n",
       "      <td>75</td>\n",
       "      <td>183</td>\n",
       "      <td>7</td>\n",
       "      <td>4</td>\n",
       "      <td>0.0</td>\n",
       "    </tr>\n",
       "    <tr>\n",
       "      <th>254</th>\n",
       "      <td>78</td>\n",
       "      <td>181</td>\n",
       "      <td>7</td>\n",
       "      <td>7</td>\n",
       "      <td>0.0</td>\n",
       "    </tr>\n",
       "    <tr>\n",
       "      <th>255</th>\n",
       "      <td>78</td>\n",
       "      <td>181</td>\n",
       "      <td>7</td>\n",
       "      <td>9</td>\n",
       "      <td>0.0</td>\n",
       "    </tr>\n",
       "  </tbody>\n",
       "</table>\n",
       "<p>256 rows × 5 columns</p>\n",
       "</div>"
      ],
      "text/plain": [
       "    Temperature Speed Distance Pressure  device\n",
       "0            57   130        6        2     0.0\n",
       "1            57   125        5        5     0.0\n",
       "2            52   125        5        5     0.0\n",
       "3            55   139        6        9     0.0\n",
       "4            51   125        6        2     0.0\n",
       "..          ...   ...      ...      ...     ...\n",
       "251          73   190        7        9     0.0\n",
       "252          80   182        8        2     0.0\n",
       "253          75   183        7        4     0.0\n",
       "254          78   181        7        7     0.0\n",
       "255          78   181        7        9     0.0\n",
       "\n",
       "[256 rows x 5 columns]"
      ]
     },
     "metadata": {},
     "output_type": "display_data"
    }
   ],
   "source": [
    "from IPython.display import display\n",
    "newDF = pd.DataFrame(columns=[\"Temperature\",\"Speed\",\"Distance\",\"Pressure\"])\n",
    "counter = 0\n",
    "for i in range(bins):\n",
    "    for j in range(bins):\n",
    "        for k in range(bins):\n",
    "            for l in range(bins):\n",
    "                t, s, d, p = randint(temperatureRange[i], temperatureRange[i+1]),randint(speedRange[j], speedRange[j+1]),round(randint(distanceRange[k], distanceRange[k+1])/100), round(randint(pressureRange[l], pressureRange[l+1])/10)\n",
    "                df2 = {'device': counter, 'Temperature': t, 'Speed': s, 'Distance':d, \"Pressure\":p}\n",
    "                newDF = newDF.append(df2, ignore_index = True)\n",
    "display(newDF)\n",
    "newDF.to_csv('syntheticDataset.csv')"
   ]
  }
 ],
 "metadata": {
  "interpreter": {
   "hash": "af1d514201f653fb50363266ea71fc76cd958ff26bdf77c1b3bc2254b0587c73"
  },
  "kernelspec": {
   "display_name": "Python 3.9.8 64-bit (windows store)",
   "language": "python",
   "name": "python3"
  },
  "language_info": {
   "codemirror_mode": {
    "name": "ipython",
    "version": 3
   },
   "file_extension": ".py",
   "mimetype": "text/x-python",
   "name": "python",
   "nbconvert_exporter": "python",
   "pygments_lexer": "ipython3",
   "version": "3.9.7"
  },
  "orig_nbformat": 4
 },
 "nbformat": 4,
 "nbformat_minor": 2
}
