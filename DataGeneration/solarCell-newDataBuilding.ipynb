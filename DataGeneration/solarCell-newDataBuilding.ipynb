{
 "cells": [
  {
   "cell_type": "markdown",
   "metadata": {},
   "source": [
    "# Generating Experimentatl Dataset\n",
    "The objective of this code is to take the paramaters given by industry knowledge and generate a dataset to be used to guide collection of experimental results to ensure unbiased, all-eoncompassing data\n"
   ]
  },
  {
   "cell_type": "code",
   "execution_count": 1,
   "metadata": {},
   "outputs": [],
   "source": [
    "import numpy as np\n",
    "import matplotlib.mlab as mlab\n",
    "import matplotlib.pyplot as plt\n",
    "import pandas as pd\n",
    "from random import *"
   ]
  },
  {
   "cell_type": "markdown",
   "metadata": {},
   "source": [
    "#### Reads in data to ensure compatibility of synthetic and real dataset"
   ]
  },
  {
   "cell_type": "code",
   "execution_count": 2,
   "metadata": {},
   "outputs": [
    {
     "name": "stdout",
     "output_type": "stream",
     "text": [
      "['devices', 'temperature', 'speed', 'distance', 'pressure', 'efficiency']\n"
     ]
    }
   ],
   "source": [
    "df = pd.read_csv('../deviceSummary.csv')\n",
    "columns = list(df.columns)\n",
    "print(columns)"
   ]
  },
  {
   "cell_type": "code",
   "execution_count": 3,
   "metadata": {},
   "outputs": [],
   "source": [
    "def getRange(regions, tempMin, tempMax):\n",
    "    tempRange = tempMax - tempMin\n",
    "    tempIncrements = tempRange / regions\n",
    "    tempBins = []\n",
    "    for i in range(4):\n",
    "        tempBins.append(int(tempMin + tempIncrements*i))\n",
    "    tempBins.append(tempMax)\n",
    "    return tempBins\n"
   ]
  },
  {
   "cell_type": "code",
   "execution_count": 4,
   "metadata": {},
   "outputs": [
    {
     "name": "stdout",
     "output_type": "stream",
     "text": [
      "[50, 57, 65, 72, 80]\n",
      "[125, 143, 162, 181, 200]\n",
      "[500, 575, 650, 725, 800]\n",
      "[0, 25, 50, 75, 100]\n"
     ]
    }
   ],
   "source": [
    "bins = 4\n",
    "temperatureRange, speedRange, distanceRange, pressureRange = getRange(bins, 50, 80), getRange(bins, 125, 200), getRange(bins, 500, 800), getRange(bins, 0, 100)\n",
    "print(temperatureRange)\n",
    "print(speedRange)\n",
    "print(distanceRange) # Multiplied by 100 to prevent decimals\n",
    "print(pressureRange) # Multiplied by 10 to prevent decimals\n",
    "\n"
   ]
  },
  {
   "cell_type": "code",
   "execution_count": 5,
   "metadata": {},
   "outputs": [
    {
     "data": {
      "text/html": [
       "<div>\n",
       "<style scoped>\n",
       "    .dataframe tbody tr th:only-of-type {\n",
       "        vertical-align: middle;\n",
       "    }\n",
       "\n",
       "    .dataframe tbody tr th {\n",
       "        vertical-align: top;\n",
       "    }\n",
       "\n",
       "    .dataframe thead th {\n",
       "        text-align: right;\n",
       "    }\n",
       "</style>\n",
       "<table border=\"1\" class=\"dataframe\">\n",
       "  <thead>\n",
       "    <tr style=\"text-align: right;\">\n",
       "      <th></th>\n",
       "      <th>Temperature</th>\n",
       "      <th>Speed</th>\n",
       "      <th>Distance</th>\n",
       "      <th>Pressure</th>\n",
       "      <th>device</th>\n",
       "    </tr>\n",
       "  </thead>\n",
       "  <tbody>\n",
       "    <tr>\n",
       "      <th>0</th>\n",
       "      <td>50</td>\n",
       "      <td>141</td>\n",
       "      <td>5</td>\n",
       "      <td>2</td>\n",
       "      <td>0.0</td>\n",
       "    </tr>\n",
       "    <tr>\n",
       "      <th>1</th>\n",
       "      <td>52</td>\n",
       "      <td>136</td>\n",
       "      <td>6</td>\n",
       "      <td>4</td>\n",
       "      <td>0.0</td>\n",
       "    </tr>\n",
       "    <tr>\n",
       "      <th>2</th>\n",
       "      <td>52</td>\n",
       "      <td>137</td>\n",
       "      <td>6</td>\n",
       "      <td>7</td>\n",
       "      <td>0.0</td>\n",
       "    </tr>\n",
       "    <tr>\n",
       "      <th>3</th>\n",
       "      <td>55</td>\n",
       "      <td>143</td>\n",
       "      <td>5</td>\n",
       "      <td>8</td>\n",
       "      <td>0.0</td>\n",
       "    </tr>\n",
       "    <tr>\n",
       "      <th>4</th>\n",
       "      <td>55</td>\n",
       "      <td>136</td>\n",
       "      <td>6</td>\n",
       "      <td>2</td>\n",
       "      <td>0.0</td>\n",
       "    </tr>\n",
       "    <tr>\n",
       "      <th>...</th>\n",
       "      <td>...</td>\n",
       "      <td>...</td>\n",
       "      <td>...</td>\n",
       "      <td>...</td>\n",
       "      <td>...</td>\n",
       "    </tr>\n",
       "    <tr>\n",
       "      <th>251</th>\n",
       "      <td>77</td>\n",
       "      <td>193</td>\n",
       "      <td>7</td>\n",
       "      <td>9</td>\n",
       "      <td>0.0</td>\n",
       "    </tr>\n",
       "    <tr>\n",
       "      <th>252</th>\n",
       "      <td>76</td>\n",
       "      <td>188</td>\n",
       "      <td>7</td>\n",
       "      <td>1</td>\n",
       "      <td>0.0</td>\n",
       "    </tr>\n",
       "    <tr>\n",
       "      <th>253</th>\n",
       "      <td>72</td>\n",
       "      <td>192</td>\n",
       "      <td>7</td>\n",
       "      <td>3</td>\n",
       "      <td>0.0</td>\n",
       "    </tr>\n",
       "    <tr>\n",
       "      <th>254</th>\n",
       "      <td>74</td>\n",
       "      <td>188</td>\n",
       "      <td>8</td>\n",
       "      <td>7</td>\n",
       "      <td>0.0</td>\n",
       "    </tr>\n",
       "    <tr>\n",
       "      <th>255</th>\n",
       "      <td>79</td>\n",
       "      <td>181</td>\n",
       "      <td>7</td>\n",
       "      <td>9</td>\n",
       "      <td>0.0</td>\n",
       "    </tr>\n",
       "  </tbody>\n",
       "</table>\n",
       "<p>256 rows × 5 columns</p>\n",
       "</div>"
      ],
      "text/plain": [
       "    Temperature Speed Distance Pressure  device\n",
       "0            50   141        5        2     0.0\n",
       "1            52   136        6        4     0.0\n",
       "2            52   137        6        7     0.0\n",
       "3            55   143        5        8     0.0\n",
       "4            55   136        6        2     0.0\n",
       "..          ...   ...      ...      ...     ...\n",
       "251          77   193        7        9     0.0\n",
       "252          76   188        7        1     0.0\n",
       "253          72   192        7        3     0.0\n",
       "254          74   188        8        7     0.0\n",
       "255          79   181        7        9     0.0\n",
       "\n",
       "[256 rows x 5 columns]"
      ]
     },
     "metadata": {},
     "output_type": "display_data"
    }
   ],
   "source": [
    "from IPython.display import display\n",
    "newDF = pd.DataFrame(columns=[\"Temperature\",\"Speed\",\"Distance\",\"Pressure\"])\n",
    "counter = 0\n",
    "for i in range(bins):\n",
    "    for j in range(bins):\n",
    "        for k in range(bins):\n",
    "            for l in range(bins):\n",
    "                t, s, d, p = randint(temperatureRange[i], temperatureRange[i+1]),randint(speedRange[j], speedRange[j+1]),round(randint(distanceRange[k], distanceRange[k+1])/100), round(randint(pressureRange[l], pressureRange[l+1])/10)\n",
    "                df2 = {'device': counter, 'Temperature': t, 'Speed': s, 'Distance':d, \"Pressure\":p}\n",
    "                newDF = newDF.append(df2, ignore_index = True)\n",
    "display(newDF)\n",
    "newDF.to_csv('syntheticDataset.csv')"
   ]
  }
 ],
 "metadata": {
  "interpreter": {
   "hash": "af1d514201f653fb50363266ea71fc76cd958ff26bdf77c1b3bc2254b0587c73"
  },
  "kernelspec": {
   "display_name": "Python 3.9.8 64-bit (windows store)",
   "language": "python",
   "name": "python3"
  },
  "language_info": {
   "codemirror_mode": {
    "name": "ipython",
    "version": 3
   },
   "file_extension": ".py",
   "mimetype": "text/x-python",
   "name": "python",
   "nbconvert_exporter": "python",
   "pygments_lexer": "ipython3",
   "version": "3.9.7"
  },
  "orig_nbformat": 4
 },
 "nbformat": 4,
 "nbformat_minor": 2
}
