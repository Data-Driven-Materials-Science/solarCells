{
 "cells": [
  {
   "cell_type": "code",
   "execution_count": 30,
   "metadata": {},
   "outputs": [],
   "source": [
    "import numpy as np\n",
    "import pandas as pd"
   ]
  },
  {
   "cell_type": "code",
   "execution_count": 31,
   "metadata": {},
   "outputs": [
    {
     "name": "stdout",
     "output_type": "stream",
     "text": [
      "     Trial  Temperature  Speed  Distance  Pressure  Efficiency\n",
      "85      85           65    145         6         5         0.0\n",
      "86      86           60    150         6         6         0.0\n",
      "87      87           60    145         6         8         0.0\n",
      "90      90           60    160         7         6         0.0\n",
      "91      91           60    145         7         9         0.0\n",
      "..     ...          ...    ...       ...       ...         ...\n",
      "250    250           75    190         7         7         0.0\n",
      "251    251           75    190         7         8         0.0\n",
      "253    253           70    185         8         4         0.0\n",
      "254    254           80    195         8         8         0.0\n",
      "255    255           75    195         8         8         0.0\n",
      "\n",
      "[69 rows x 6 columns]\n",
      "     Trial  Temperature  Speed  Distance  Pressure  Efficiency\n",
      "0        0           55    140         5         1         0.0\n",
      "1        1           50    145         5         3         0.0\n",
      "2        2           50    145         5         8         0.0\n",
      "3        3           55    140         5         9         0.0\n",
      "4        4           55    135         6         0         0.0\n",
      "..     ...          ...    ...       ...       ...         ...\n",
      "242    242           75    185         5         7         0.0\n",
      "243    243           80    180         5         9         0.0\n",
      "244    244           75    180         6         0         0.0\n",
      "248    248           75    185         7         1         0.0\n",
      "252    252           70    190         8         0         0.0\n",
      "\n",
      "[187 rows x 6 columns]\n"
     ]
    }
   ],
   "source": [
    "df = pd.read_csv('../DataSets/newDataCollection.csv')\n",
    "dfInverse = df.copy()\n",
    "df1 = df[df.Temperature > 57]\n",
    "df2 = df1[df1.Speed > 143]\n",
    "df3 = df2[df2.Distance > 5.75]\n",
    "df4 = df3[df3.Pressure > 2.5]\n",
    "dfInverse = pd.concat([df, df4]).drop_duplicates(keep=False)\n",
    "print(df4)\n",
    "print(dfInverse)\n",
    "df4.to_csv('../Datasets/newDataCollection-SuperLowRemoved.csv')\n",
    "dfInverse.to_csv('../Datasets/newDataCollection-AugmentationRemainder.csv')\n",
    "#print(dfInverse)\n"
   ]
  }
 ],
 "metadata": {
  "kernelspec": {
   "display_name": "Python 3.9.13 ('base')",
   "language": "python",
   "name": "python3"
  },
  "language_info": {
   "codemirror_mode": {
    "name": "ipython",
    "version": 3
   },
   "file_extension": ".py",
   "mimetype": "text/x-python",
   "name": "python",
   "nbconvert_exporter": "python",
   "pygments_lexer": "ipython3",
   "version": "3.9.13"
  },
  "orig_nbformat": 4,
  "vscode": {
   "interpreter": {
    "hash": "a21a4d8430ca198249bdb796151de090f5777c48c0e324da81ff190d429db2a2"
   }
  }
 },
 "nbformat": 4,
 "nbformat_minor": 2
}
