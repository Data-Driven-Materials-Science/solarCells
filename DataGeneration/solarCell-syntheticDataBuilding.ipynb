{
 "cells": [
  {
   "cell_type": "markdown",
   "metadata": {},
   "source": [
    "# Creating Synthetic Dataset\n",
    "The objective of this code is to create an artificicial dataset encompassing all the values within a given range for each feature seperated by an assiagned sensitivity. This synthetic dataset will then be able to be plugged into the regression model to search and save optimal values. "
   ]
  },
  {
   "cell_type": "code",
   "execution_count": 12,
   "metadata": {},
   "outputs": [],
   "source": [
    "import numpy as np\n",
    "import matplotlib.mlab as mlab\n",
    "import matplotlib.pyplot as plt\n",
    "import pandas as pd\n",
    "from random import *"
   ]
  },
  {
   "cell_type": "markdown",
   "metadata": {},
   "source": [
    "#### Reads in data to ensure compatibility of synthetic and real dataset"
   ]
  },
  {
   "cell_type": "code",
   "execution_count": 13,
   "metadata": {},
   "outputs": [
    {
     "name": "stdout",
     "output_type": "stream",
     "text": [
      "['devices', 'temperature', 'speed', 'distance', 'pressure', 'efficiency']\n"
     ]
    }
   ],
   "source": [
    "df = pd.read_csv('../deviceSummary.csv')\n",
    "columns = list(df.columns)\n",
    "print(columns)"
   ]
  },
  {
   "cell_type": "code",
   "execution_count": 14,
   "metadata": {},
   "outputs": [],
   "source": [
    "def getRange(regions, tempMin, tempMax):\n",
    "    tempRange = tempMax - tempMin\n",
    "    tempIncrements = tempRange / regions\n",
    "    tempBins = []\n",
    "    for i in range(4):\n",
    "        tempBins.append(int(tempMin + tempIncrements*i))\n",
    "    tempBins.append(tempMax)\n",
    "    return tempBins\n"
   ]
  },
  {
   "cell_type": "code",
   "execution_count": 15,
   "metadata": {},
   "outputs": [
    {
     "name": "stdout",
     "output_type": "stream",
     "text": [
      "[50, 50, 50, 50, 80]\n",
      "[125, 125, 126, 127, 200]\n",
      "[500, 503, 506, 509, 800]\n",
      "[0, 1, 2, 3, 100]\n"
     ]
    }
   ],
   "source": [
    "bins = 100\n",
    "temperatureRange, speedRange, distanceRange, pressureRange = getRange(bins, 50, 80), getRange(bins, 125, 200), getRange(bins, 500, 800), getRange(bins, 0, 100)\n",
    "print(temperatureRange)\n",
    "print(speedRange)\n",
    "print(distanceRange) # Multiplied by 100 to prevent decimals\n",
    "print(pressureRange) # Multiplied by 10 to prevent decimals\n",
    "\n",
    " "
   ]
  },
  {
   "cell_type": "code",
   "execution_count": 19,
   "metadata": {},
   "outputs": [
    {
     "name": "stdout",
     "output_type": "stream",
     "text": [
      "[50, 51, 52, 53, 54, 55, 56, 57, 58, 59, 60, 61, 62, 63, 64, 65, 66, 67, 68, 69, 70, 71, 72, 73, 74, 75, 76, 77, 78, 79, 80]\n",
      "[125, 126, 127, 128, 129, 130, 131, 132, 133, 134, 135, 136, 137, 138, 139, 140, 141, 142, 143, 144, 145, 146, 147, 148, 149, 150, 151, 152, 153, 154, 155, 156, 157, 158, 159, 160, 161, 162, 163, 164, 165, 166, 167, 168, 169, 170, 171, 172, 173, 174, 175, 176, 177, 178, 179, 180, 181, 182, 183, 184, 185, 186, 187, 188, 189, 190, 191, 192, 193, 194, 195, 196, 197, 198, 199, 200]\n",
      "[0, 1, 2, 3, 4, 5, 6, 7, 8, 9, 10]\n",
      "[5, 6, 7, 8]\n"
     ]
    }
   ],
   "source": [
    "incrementalFactor = 1 \n",
    "multiplier = 1\n",
    "\n",
    "tRange = [50, 80]\n",
    "temp = tRange[0] - incrementalFactor\n",
    "tVals = []\n",
    "for i in range((tRange[1] - tRange[0]) * multiplier + 1):\n",
    "    temp += incrementalFactor\n",
    "    tVals.append(temp)\n",
    "\n",
    "sRange = [125, 200]\n",
    "temp = sRange[0] - incrementalFactor\n",
    "sVals = []\n",
    "for i in range((sRange[1] - sRange[0]) * multiplier + 1):\n",
    "    temp += incrementalFactor\n",
    "    sVals.append(temp)\n",
    "\n",
    "dRange = [5, 8]\n",
    "temp = dRange[0] - incrementalFactor\n",
    "dVals = []\n",
    "for i in range((dRange[1] - dRange[0]) * multiplier + 1):\n",
    "    temp += incrementalFactor\n",
    "    dVals.append(temp)\n",
    "\n",
    "pRange = [0, 10]\n",
    "temp = pRange[0] - incrementalFactor\n",
    "pVals = []\n",
    "for i in range((pRange[1] - pRange[0]) * multiplier + 1):\n",
    "    temp += incrementalFactor\n",
    "    pVals.append(temp)\n",
    "\n",
    "print(tVals)\n",
    "print(sVals)\n",
    "print(pVals)\n",
    "print(dVals)\n"
   ]
  },
  {
   "cell_type": "code",
   "execution_count": 20,
   "metadata": {},
   "outputs": [
    {
     "data": {
      "text/html": [
       "<div>\n",
       "<style scoped>\n",
       "    .dataframe tbody tr th:only-of-type {\n",
       "        vertical-align: middle;\n",
       "    }\n",
       "\n",
       "    .dataframe tbody tr th {\n",
       "        vertical-align: top;\n",
       "    }\n",
       "\n",
       "    .dataframe thead th {\n",
       "        text-align: right;\n",
       "    }\n",
       "</style>\n",
       "<table border=\"1\" class=\"dataframe\">\n",
       "  <thead>\n",
       "    <tr style=\"text-align: right;\">\n",
       "      <th></th>\n",
       "      <th>Temperature</th>\n",
       "      <th>Speed</th>\n",
       "      <th>Distance</th>\n",
       "      <th>Pressure</th>\n",
       "      <th>device</th>\n",
       "    </tr>\n",
       "  </thead>\n",
       "  <tbody>\n",
       "    <tr>\n",
       "      <th>0</th>\n",
       "      <td>50</td>\n",
       "      <td>125</td>\n",
       "      <td>5</td>\n",
       "      <td>0</td>\n",
       "      <td>0.0</td>\n",
       "    </tr>\n",
       "    <tr>\n",
       "      <th>1</th>\n",
       "      <td>50</td>\n",
       "      <td>125</td>\n",
       "      <td>5</td>\n",
       "      <td>1</td>\n",
       "      <td>0.0</td>\n",
       "    </tr>\n",
       "    <tr>\n",
       "      <th>2</th>\n",
       "      <td>50</td>\n",
       "      <td>125</td>\n",
       "      <td>5</td>\n",
       "      <td>2</td>\n",
       "      <td>0.0</td>\n",
       "    </tr>\n",
       "    <tr>\n",
       "      <th>3</th>\n",
       "      <td>50</td>\n",
       "      <td>125</td>\n",
       "      <td>5</td>\n",
       "      <td>3</td>\n",
       "      <td>0.0</td>\n",
       "    </tr>\n",
       "    <tr>\n",
       "      <th>4</th>\n",
       "      <td>50</td>\n",
       "      <td>125</td>\n",
       "      <td>5</td>\n",
       "      <td>4</td>\n",
       "      <td>0.0</td>\n",
       "    </tr>\n",
       "    <tr>\n",
       "      <th>...</th>\n",
       "      <td>...</td>\n",
       "      <td>...</td>\n",
       "      <td>...</td>\n",
       "      <td>...</td>\n",
       "      <td>...</td>\n",
       "    </tr>\n",
       "    <tr>\n",
       "      <th>103659</th>\n",
       "      <td>80</td>\n",
       "      <td>200</td>\n",
       "      <td>8</td>\n",
       "      <td>6</td>\n",
       "      <td>0.0</td>\n",
       "    </tr>\n",
       "    <tr>\n",
       "      <th>103660</th>\n",
       "      <td>80</td>\n",
       "      <td>200</td>\n",
       "      <td>8</td>\n",
       "      <td>7</td>\n",
       "      <td>0.0</td>\n",
       "    </tr>\n",
       "    <tr>\n",
       "      <th>103661</th>\n",
       "      <td>80</td>\n",
       "      <td>200</td>\n",
       "      <td>8</td>\n",
       "      <td>8</td>\n",
       "      <td>0.0</td>\n",
       "    </tr>\n",
       "    <tr>\n",
       "      <th>103662</th>\n",
       "      <td>80</td>\n",
       "      <td>200</td>\n",
       "      <td>8</td>\n",
       "      <td>9</td>\n",
       "      <td>0.0</td>\n",
       "    </tr>\n",
       "    <tr>\n",
       "      <th>103663</th>\n",
       "      <td>80</td>\n",
       "      <td>200</td>\n",
       "      <td>8</td>\n",
       "      <td>10</td>\n",
       "      <td>0.0</td>\n",
       "    </tr>\n",
       "  </tbody>\n",
       "</table>\n",
       "<p>103664 rows × 5 columns</p>\n",
       "</div>"
      ],
      "text/plain": [
       "       Temperature Speed Distance Pressure  device\n",
       "0               50   125        5        0     0.0\n",
       "1               50   125        5        1     0.0\n",
       "2               50   125        5        2     0.0\n",
       "3               50   125        5        3     0.0\n",
       "4               50   125        5        4     0.0\n",
       "...            ...   ...      ...      ...     ...\n",
       "103659          80   200        8        6     0.0\n",
       "103660          80   200        8        7     0.0\n",
       "103661          80   200        8        8     0.0\n",
       "103662          80   200        8        9     0.0\n",
       "103663          80   200        8       10     0.0\n",
       "\n",
       "[103664 rows x 5 columns]"
      ]
     },
     "metadata": {},
     "output_type": "display_data"
    }
   ],
   "source": [
    "from IPython.display import display\n",
    "newDF = pd.DataFrame(columns=[\"Temperature\",\"Speed\",\"Distance\",\"Pressure\"])\n",
    "counter = 0\n",
    "for t in tVals:\n",
    "    for s in sVals:\n",
    "        for d in dVals:\n",
    "            for p in pVals:\n",
    "                #t, s, d, p = randint(temperatureRange[i], temperatureRange[i+1]),randint(speedRange[j], speedRange[j+1]),round(randint(distanceRange[k], distanceRange[k+1])/100), round(randint(pressureRange[l], pressureRange[l+1])/10)\n",
    "                df2 = {'device': counter, 'Temperature': t, 'Speed': s, 'Distance':d, \"Pressure\":p}\n",
    "                newDF = newDF.append(df2, ignore_index = True)\n",
    "display(newDF)\n",
    "newDF.to_csv('optimizedSyntheticDataset.csv')"
   ]
  }
 ],
 "metadata": {
  "interpreter": {
   "hash": "af1d514201f653fb50363266ea71fc76cd958ff26bdf77c1b3bc2254b0587c73"
  },
  "kernelspec": {
   "display_name": "Python 3.9.8 64-bit (windows store)",
   "language": "python",
   "name": "python3"
  },
  "language_info": {
   "codemirror_mode": {
    "name": "ipython",
    "version": 3
   },
   "file_extension": ".py",
   "mimetype": "text/x-python",
   "name": "python",
   "nbconvert_exporter": "python",
   "pygments_lexer": "ipython3",
   "version": "3.9.7"
  },
  "orig_nbformat": 4
 },
 "nbformat": 4,
 "nbformat_minor": 2
}
